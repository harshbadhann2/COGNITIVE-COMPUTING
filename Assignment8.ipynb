{
 "cells": [
  {
   "metadata": {},
   "cell_type": "markdown",
   "source": "HARSH BADHAN 102317140 ASSIGNMENT 8\n",
   "id": "e5e20549cdf5b2b1"
  },
  {
   "cell_type": "code",
   "id": "initial_id",
   "metadata": {
    "collapsed": true,
    "ExecuteTime": {
     "end_time": "2025-04-01T10:59:51.900551Z",
     "start_time": "2025-04-01T10:59:50.869050Z"
    }
   },
   "source": [
    "from sklearn import datasets\n",
    "from sklearn.model_selection import train_test_split\n",
    "from sklearn.preprocessing import StandardScaler\n",
    "from sklearn.linear_model import LogisticRegression\n",
    "from sklearn.metrics import accuracy_score\n",
    "\n",
    "iris_dataset = datasets.load_iris()\n",
    "features = iris_dataset.data\n",
    "labels = iris_dataset.target\n",
    "\n",
    "features_train, features_test, labels_train, labels_test = train_test_split(features, labels, test_size=0.2, random_state=42, stratify=labels)\n",
    "\n",
    "normalizer = StandardScaler()\n",
    "features_train = normalizer.fit_transform(features_train)\n",
    "features_test = normalizer.transform(features_test)\n",
    "\n",
    "classifier = LogisticRegression(multi_class='ovr', solver='lbfgs', max_iter=200)\n",
    "classifier.fit(features_train, labels_train)\n",
    "\n",
    "predictions = classifier.predict(features_test)\n",
    "\n",
    "model_accuracy = accuracy_score(labels_test, predictions)\n",
    "print(f\"Accuracy: {model_accuracy:.2f}\")"
   ],
   "outputs": [
    {
     "name": "stdout",
     "output_type": "stream",
     "text": [
      "Accuracy: 0.90\n"
     ]
    },
    {
     "name": "stderr",
     "output_type": "stream",
     "text": [
      "/Library/Frameworks/Python.framework/Versions/3.13/lib/python3.13/site-packages/sklearn/linear_model/_logistic.py:1256: FutureWarning: 'multi_class' was deprecated in version 1.5 and will be removed in 1.7. Use OneVsRestClassifier(LogisticRegression(..)) instead. Leave it to its default value to avoid this warning.\n",
      "  warnings.warn(\n"
     ]
    }
   ],
   "execution_count": 1
  }
 ],
 "metadata": {
  "kernelspec": {
   "display_name": "Python 3",
   "language": "python",
   "name": "python3"
  },
  "language_info": {
   "codemirror_mode": {
    "name": "ipython",
    "version": 2
   },
   "file_extension": ".py",
   "mimetype": "text/x-python",
   "name": "python",
   "nbconvert_exporter": "python",
   "pygments_lexer": "ipython2",
   "version": "2.7.6"
  }
 },
 "nbformat": 4,
 "nbformat_minor": 5
}
