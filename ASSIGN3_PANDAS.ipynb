{
 "cells": [
  {
   "metadata": {},
   "cell_type": "markdown",
   "source": [
    "# Q 1,2,3\n",
    "\n"
   ],
   "id": "14fc67177b743257"
  },
  {
   "cell_type": "code",
   "id": "initial_id",
   "metadata": {
    "collapsed": true,
    "ExecuteTime": {
     "end_time": "2025-01-27T11:52:17.895552Z",
     "start_time": "2025-01-27T11:52:17.872161Z"
    }
   },
   "source": [
    "import pandas as pd\n",
    "from IPython.display import display\n",
    "\n",
    "data = {\n",
    "    \"Tid\" : [1,2,3,4,5,6,7,8,9,10],\n",
    "    \"Refund\" : ['Yes','No','No','Yes','No','No','Yes','No','No','No'],\n",
    "    \"Marital Status\" : [\"Single\",'Married','Single','Married','Divorced','Married','Divorced','Single','Married','Single'],\n",
    "    \"Taxable Income\" : ['125K','100K','70K','120K','95K','60K','220K','85K','75K','90K'],\n",
    "    \"Cheat\" : ['No','No','No','No','Yes','No','No','Yes','No','Yes']\n",
    "}\n",
    "\n",
    "df = pd.DataFrame(data)\n",
    "\n",
    "display(df)\n",
    "print(df)\n"
   ],
   "outputs": [
    {
     "data": {
      "text/plain": [
       "   Tid Refund Marital Status Taxable Income Cheat\n",
       "0    1    Yes         Single           125K    No\n",
       "1    2     No        Married           100K    No\n",
       "2    3     No         Single            70K    No\n",
       "3    4    Yes        Married           120K    No\n",
       "4    5     No       Divorced            95K   Yes\n",
       "5    6     No        Married            60K    No\n",
       "6    7    Yes       Divorced           220K    No\n",
       "7    8     No         Single            85K   Yes\n",
       "8    9     No        Married            75K    No\n",
       "9   10     No         Single            90K   Yes"
      ],
      "text/html": [
       "<div>\n",
       "<style scoped>\n",
       "    .dataframe tbody tr th:only-of-type {\n",
       "        vertical-align: middle;\n",
       "    }\n",
       "\n",
       "    .dataframe tbody tr th {\n",
       "        vertical-align: top;\n",
       "    }\n",
       "\n",
       "    .dataframe thead th {\n",
       "        text-align: right;\n",
       "    }\n",
       "</style>\n",
       "<table border=\"1\" class=\"dataframe\">\n",
       "  <thead>\n",
       "    <tr style=\"text-align: right;\">\n",
       "      <th></th>\n",
       "      <th>Tid</th>\n",
       "      <th>Refund</th>\n",
       "      <th>Marital Status</th>\n",
       "      <th>Taxable Income</th>\n",
       "      <th>Cheat</th>\n",
       "    </tr>\n",
       "  </thead>\n",
       "  <tbody>\n",
       "    <tr>\n",
       "      <th>0</th>\n",
       "      <td>1</td>\n",
       "      <td>Yes</td>\n",
       "      <td>Single</td>\n",
       "      <td>125K</td>\n",
       "      <td>No</td>\n",
       "    </tr>\n",
       "    <tr>\n",
       "      <th>1</th>\n",
       "      <td>2</td>\n",
       "      <td>No</td>\n",
       "      <td>Married</td>\n",
       "      <td>100K</td>\n",
       "      <td>No</td>\n",
       "    </tr>\n",
       "    <tr>\n",
       "      <th>2</th>\n",
       "      <td>3</td>\n",
       "      <td>No</td>\n",
       "      <td>Single</td>\n",
       "      <td>70K</td>\n",
       "      <td>No</td>\n",
       "    </tr>\n",
       "    <tr>\n",
       "      <th>3</th>\n",
       "      <td>4</td>\n",
       "      <td>Yes</td>\n",
       "      <td>Married</td>\n",
       "      <td>120K</td>\n",
       "      <td>No</td>\n",
       "    </tr>\n",
       "    <tr>\n",
       "      <th>4</th>\n",
       "      <td>5</td>\n",
       "      <td>No</td>\n",
       "      <td>Divorced</td>\n",
       "      <td>95K</td>\n",
       "      <td>Yes</td>\n",
       "    </tr>\n",
       "    <tr>\n",
       "      <th>5</th>\n",
       "      <td>6</td>\n",
       "      <td>No</td>\n",
       "      <td>Married</td>\n",
       "      <td>60K</td>\n",
       "      <td>No</td>\n",
       "    </tr>\n",
       "    <tr>\n",
       "      <th>6</th>\n",
       "      <td>7</td>\n",
       "      <td>Yes</td>\n",
       "      <td>Divorced</td>\n",
       "      <td>220K</td>\n",
       "      <td>No</td>\n",
       "    </tr>\n",
       "    <tr>\n",
       "      <th>7</th>\n",
       "      <td>8</td>\n",
       "      <td>No</td>\n",
       "      <td>Single</td>\n",
       "      <td>85K</td>\n",
       "      <td>Yes</td>\n",
       "    </tr>\n",
       "    <tr>\n",
       "      <th>8</th>\n",
       "      <td>9</td>\n",
       "      <td>No</td>\n",
       "      <td>Married</td>\n",
       "      <td>75K</td>\n",
       "      <td>No</td>\n",
       "    </tr>\n",
       "    <tr>\n",
       "      <th>9</th>\n",
       "      <td>10</td>\n",
       "      <td>No</td>\n",
       "      <td>Single</td>\n",
       "      <td>90K</td>\n",
       "      <td>Yes</td>\n",
       "    </tr>\n",
       "  </tbody>\n",
       "</table>\n",
       "</div>"
      ]
     },
     "metadata": {},
     "output_type": "display_data"
    },
    {
     "name": "stdout",
     "output_type": "stream",
     "text": [
      "   Tid Refund Marital Status Taxable Income Cheat\n",
      "0    1    Yes         Single           125K    No\n",
      "1    2     No        Married           100K    No\n",
      "2    3     No         Single            70K    No\n",
      "3    4    Yes        Married           120K    No\n",
      "4    5     No       Divorced            95K   Yes\n",
      "5    6     No        Married            60K    No\n",
      "6    7    Yes       Divorced           220K    No\n",
      "7    8     No         Single            85K   Yes\n",
      "8    9     No        Married            75K    No\n",
      "9   10     No         Single            90K   Yes\n"
     ]
    }
   ],
   "execution_count": 9
  },
  {
   "metadata": {
    "ExecuteTime": {
     "end_time": "2025-01-27T11:52:20.170890Z",
     "start_time": "2025-01-27T11:52:20.160670Z"
    }
   },
   "cell_type": "code",
   "source": "display(df.iloc[[0, 4, 7, 8]])\n",
   "id": "20721dd233b47911",
   "outputs": [
    {
     "data": {
      "text/plain": [
       "   Tid Refund Marital Status Taxable Income Cheat\n",
       "0    1    Yes         Single           125K    No\n",
       "4    5     No       Divorced            95K   Yes\n",
       "7    8     No         Single            85K   Yes\n",
       "8    9     No        Married            75K    No"
      ],
      "text/html": [
       "<div>\n",
       "<style scoped>\n",
       "    .dataframe tbody tr th:only-of-type {\n",
       "        vertical-align: middle;\n",
       "    }\n",
       "\n",
       "    .dataframe tbody tr th {\n",
       "        vertical-align: top;\n",
       "    }\n",
       "\n",
       "    .dataframe thead th {\n",
       "        text-align: right;\n",
       "    }\n",
       "</style>\n",
       "<table border=\"1\" class=\"dataframe\">\n",
       "  <thead>\n",
       "    <tr style=\"text-align: right;\">\n",
       "      <th></th>\n",
       "      <th>Tid</th>\n",
       "      <th>Refund</th>\n",
       "      <th>Marital Status</th>\n",
       "      <th>Taxable Income</th>\n",
       "      <th>Cheat</th>\n",
       "    </tr>\n",
       "  </thead>\n",
       "  <tbody>\n",
       "    <tr>\n",
       "      <th>0</th>\n",
       "      <td>1</td>\n",
       "      <td>Yes</td>\n",
       "      <td>Single</td>\n",
       "      <td>125K</td>\n",
       "      <td>No</td>\n",
       "    </tr>\n",
       "    <tr>\n",
       "      <th>4</th>\n",
       "      <td>5</td>\n",
       "      <td>No</td>\n",
       "      <td>Divorced</td>\n",
       "      <td>95K</td>\n",
       "      <td>Yes</td>\n",
       "    </tr>\n",
       "    <tr>\n",
       "      <th>7</th>\n",
       "      <td>8</td>\n",
       "      <td>No</td>\n",
       "      <td>Single</td>\n",
       "      <td>85K</td>\n",
       "      <td>Yes</td>\n",
       "    </tr>\n",
       "    <tr>\n",
       "      <th>8</th>\n",
       "      <td>9</td>\n",
       "      <td>No</td>\n",
       "      <td>Married</td>\n",
       "      <td>75K</td>\n",
       "      <td>No</td>\n",
       "    </tr>\n",
       "  </tbody>\n",
       "</table>\n",
       "</div>"
      ]
     },
     "metadata": {},
     "output_type": "display_data"
    }
   ],
   "execution_count": 10
  },
  {
   "metadata": {
    "ExecuteTime": {
     "end_time": "2025-01-27T11:52:22.132261Z",
     "start_time": "2025-01-27T11:52:22.126274Z"
    }
   },
   "cell_type": "code",
   "source": [
    "print(df.iloc[3:7])\n",
    "print(df.iloc[4:8, 2:4])"
   ],
   "id": "4bd12601fb82a66b",
   "outputs": [
    {
     "name": "stdout",
     "output_type": "stream",
     "text": [
      "   Tid Refund Marital Status Taxable Income Cheat\n",
      "3    4    Yes        Married           120K    No\n",
      "4    5     No       Divorced            95K   Yes\n",
      "5    6     No        Married            60K    No\n",
      "6    7    Yes       Divorced           220K    No\n",
      "  Marital Status Taxable Income\n",
      "4       Divorced            95K\n",
      "5        Married            60K\n",
      "6       Divorced           220K\n",
      "7         Single            85K\n"
     ]
    }
   ],
   "execution_count": 11
  },
  {
   "metadata": {},
   "cell_type": "markdown",
   "source": [
    "# Q.4\n",
    "* Read a csv file and display its first five rows.\n",
    "* Note-: Download dataset from https://www.kaggle.com/datasets/uciml/iris)\n",
    "# Q.5\n",
    " * From the csv file (uploaded in the Q.4) delete row 4, and delete column 3. Display the\n",
    "result."
   ],
   "id": "dd48edce7e28024e"
  },
  {
   "metadata": {
    "ExecuteTime": {
     "end_time": "2025-01-27T11:52:24.954074Z",
     "start_time": "2025-01-27T11:52:24.485057Z"
    }
   },
   "cell_type": "code",
   "source": [
    "import pandas as pd\n",
    "from IPython.display import display\n",
    "\n",
    "df_csv = pd.read_csv('https://raw.githubusercontent.com/mwaskom/seaborn-data/master/iris.csv')\n",
    "print(\"Original DataFrame:\")\n",
    "display(df_csv.head())\n",
    "\n"
   ],
   "id": "fdcc76492859d20e",
   "outputs": [
    {
     "name": "stdout",
     "output_type": "stream",
     "text": [
      "Original DataFrame:\n"
     ]
    },
    {
     "data": {
      "text/plain": [
       "   sepal_length  sepal_width  petal_length  petal_width species\n",
       "0           5.1          3.5           1.4          0.2  setosa\n",
       "1           4.9          3.0           1.4          0.2  setosa\n",
       "2           4.7          3.2           1.3          0.2  setosa\n",
       "3           4.6          3.1           1.5          0.2  setosa\n",
       "4           5.0          3.6           1.4          0.2  setosa"
      ],
      "text/html": [
       "<div>\n",
       "<style scoped>\n",
       "    .dataframe tbody tr th:only-of-type {\n",
       "        vertical-align: middle;\n",
       "    }\n",
       "\n",
       "    .dataframe tbody tr th {\n",
       "        vertical-align: top;\n",
       "    }\n",
       "\n",
       "    .dataframe thead th {\n",
       "        text-align: right;\n",
       "    }\n",
       "</style>\n",
       "<table border=\"1\" class=\"dataframe\">\n",
       "  <thead>\n",
       "    <tr style=\"text-align: right;\">\n",
       "      <th></th>\n",
       "      <th>sepal_length</th>\n",
       "      <th>sepal_width</th>\n",
       "      <th>petal_length</th>\n",
       "      <th>petal_width</th>\n",
       "      <th>species</th>\n",
       "    </tr>\n",
       "  </thead>\n",
       "  <tbody>\n",
       "    <tr>\n",
       "      <th>0</th>\n",
       "      <td>5.1</td>\n",
       "      <td>3.5</td>\n",
       "      <td>1.4</td>\n",
       "      <td>0.2</td>\n",
       "      <td>setosa</td>\n",
       "    </tr>\n",
       "    <tr>\n",
       "      <th>1</th>\n",
       "      <td>4.9</td>\n",
       "      <td>3.0</td>\n",
       "      <td>1.4</td>\n",
       "      <td>0.2</td>\n",
       "      <td>setosa</td>\n",
       "    </tr>\n",
       "    <tr>\n",
       "      <th>2</th>\n",
       "      <td>4.7</td>\n",
       "      <td>3.2</td>\n",
       "      <td>1.3</td>\n",
       "      <td>0.2</td>\n",
       "      <td>setosa</td>\n",
       "    </tr>\n",
       "    <tr>\n",
       "      <th>3</th>\n",
       "      <td>4.6</td>\n",
       "      <td>3.1</td>\n",
       "      <td>1.5</td>\n",
       "      <td>0.2</td>\n",
       "      <td>setosa</td>\n",
       "    </tr>\n",
       "    <tr>\n",
       "      <th>4</th>\n",
       "      <td>5.0</td>\n",
       "      <td>3.6</td>\n",
       "      <td>1.4</td>\n",
       "      <td>0.2</td>\n",
       "      <td>setosa</td>\n",
       "    </tr>\n",
       "  </tbody>\n",
       "</table>\n",
       "</div>"
      ]
     },
     "metadata": {},
     "output_type": "display_data"
    }
   ],
   "execution_count": 12
  },
  {
   "metadata": {
    "ExecuteTime": {
     "end_time": "2025-01-27T11:52:26.777156Z",
     "start_time": "2025-01-27T11:52:26.770954Z"
    }
   },
   "cell_type": "code",
   "source": [
    "# Reset index to ensure proper integer-based indexing\n",
    "df_csv.reset_index(drop=True, inplace=True)\n",
    "\n",
    "# Drop the fourth row (index 3)\n",
    "df_csv = df_csv.drop(index=3)\n",
    "\n",
    "# Drop the third column\n",
    "df_csv = df_csv.drop(columns=df_csv.columns[2])\n",
    "\n",
    "print(\"Updated DataFrame:\")\n",
    "print(df_csv.head())"
   ],
   "id": "a1ca6ab60b67d039",
   "outputs": [
    {
     "name": "stdout",
     "output_type": "stream",
     "text": [
      "Updated DataFrame:\n",
      "   sepal_length  sepal_width  petal_width species\n",
      "0           5.1          3.5          0.2  setosa\n",
      "1           4.9          3.0          0.2  setosa\n",
      "2           4.7          3.2          0.2  setosa\n",
      "4           5.0          3.6          0.2  setosa\n",
      "5           5.4          3.9          0.4  setosa\n"
     ]
    }
   ],
   "execution_count": 13
  },
  {
   "metadata": {},
   "cell_type": "markdown",
   "source": [
    "## Q6\n",
    "* WAP to determine the following using dataset in Q6:\n",
    "* a) Shape (number of rows and columns) of the DataFrame.\n",
    "* b) Summary of the DataFrame that includes the data types and non-null counts for each column.\n",
    "* c) Generate descriptive statistics.\n",
    "* d) Display the first 5 rows and last 3 rows of the dataset.\n",
    "* e) Calculate the following statistics from the dataset: i. The average salary of employees.\n",
    "ii. The total bonus paid to all employees.\n",
    "iii. The youngest employee's age.\n",
    "iv. The highest performance rating.\n",
    "* f) Sort the DataFrame by the Salary column in descending order.\n",
    "* g) Add a new column that categorizes employees based on their performance rating:\n",
    "i. Excellent for ratings >= 4.5\n",
    "ii. Good for ratings >= 4.0 but < 4.5\n",
    "iii. Average for ratings < 4.0\n",
    "* h) Identify missing values in the DataFrame.\n",
    "* i) Rename the Employee_ID column to ID.\n",
    "* j) Find all employees who:\n",
    "i. Have more than 5 years of experience.\n",
    "ii. Belong to the IT department.\n",
    "* k) Modify the dataset by adding a new column, Tax, which deducts 10% of the\n",
    "Salary.\n",
    " l) Save the modified DataFrame (with added columns) to a new CSV file.\n"
   ],
   "id": "e0a7f2ffd744db01"
  },
  {
   "metadata": {
    "ExecuteTime": {
     "end_time": "2025-01-27T11:52:57.306232Z",
     "start_time": "2025-01-27T11:52:57.298555Z"
    }
   },
   "cell_type": "code",
   "source": [
    "import pandas as pd\n",
    "\n",
    "data = {\n",
    "    'Employee_Id' : [101, 102, 103, 104, 105],\n",
    "    'Name' : ['Alice', 'Bob', 'Charlie', 'Diana','Edward'],\n",
    "    'Department' : ['HR', 'IT', 'IT', 'Marketing', 'Sales'],\n",
    "    'Age' : [29,34,41,28,38],\n",
    "    'Salary' : [50000, 70000, 65000, 55000, 60000],\n",
    "    'Years of Experience' : [4,8,10,3,12],\n",
    "    'Joining Date' : ['2020-03-15 ','2017-07-19','2013-06-01','2021-02-10','2010-11-25 '],\n",
    "    'Gender' : ['Female','Male','Male',\"Female\",'Male'],\n",
    "    'Bonus' : [5000,7000,6000,4500,5000],\n",
    "    'Rating' : [4.5,4.0,3.8,4.7,3.5]\n",
    "}\n",
    "\n",
    "df = pd.DataFrame(data)\n",
    "display(df)\n",
    "\n"
   ],
   "id": "7c14a4a7ec602752",
   "outputs": [
    {
     "data": {
      "text/plain": [
       "   Employee_Id     Name Department  Age  Salary  Years of Experience  \\\n",
       "0          101    Alice         HR   29   50000                    4   \n",
       "1          102      Bob         IT   34   70000                    8   \n",
       "2          103  Charlie         IT   41   65000                   10   \n",
       "3          104    Diana  Marketing   28   55000                    3   \n",
       "4          105   Edward      Sales   38   60000                   12   \n",
       "\n",
       "  Joining Date  Gender  Bonus  Rating  \n",
       "0  2020-03-15   Female   5000     4.5  \n",
       "1   2017-07-19    Male   7000     4.0  \n",
       "2   2013-06-01    Male   6000     3.8  \n",
       "3   2021-02-10  Female   4500     4.7  \n",
       "4  2010-11-25     Male   5000     3.5  "
      ],
      "text/html": [
       "<div>\n",
       "<style scoped>\n",
       "    .dataframe tbody tr th:only-of-type {\n",
       "        vertical-align: middle;\n",
       "    }\n",
       "\n",
       "    .dataframe tbody tr th {\n",
       "        vertical-align: top;\n",
       "    }\n",
       "\n",
       "    .dataframe thead th {\n",
       "        text-align: right;\n",
       "    }\n",
       "</style>\n",
       "<table border=\"1\" class=\"dataframe\">\n",
       "  <thead>\n",
       "    <tr style=\"text-align: right;\">\n",
       "      <th></th>\n",
       "      <th>Employee_Id</th>\n",
       "      <th>Name</th>\n",
       "      <th>Department</th>\n",
       "      <th>Age</th>\n",
       "      <th>Salary</th>\n",
       "      <th>Years of Experience</th>\n",
       "      <th>Joining Date</th>\n",
       "      <th>Gender</th>\n",
       "      <th>Bonus</th>\n",
       "      <th>Rating</th>\n",
       "    </tr>\n",
       "  </thead>\n",
       "  <tbody>\n",
       "    <tr>\n",
       "      <th>0</th>\n",
       "      <td>101</td>\n",
       "      <td>Alice</td>\n",
       "      <td>HR</td>\n",
       "      <td>29</td>\n",
       "      <td>50000</td>\n",
       "      <td>4</td>\n",
       "      <td>2020-03-15</td>\n",
       "      <td>Female</td>\n",
       "      <td>5000</td>\n",
       "      <td>4.5</td>\n",
       "    </tr>\n",
       "    <tr>\n",
       "      <th>1</th>\n",
       "      <td>102</td>\n",
       "      <td>Bob</td>\n",
       "      <td>IT</td>\n",
       "      <td>34</td>\n",
       "      <td>70000</td>\n",
       "      <td>8</td>\n",
       "      <td>2017-07-19</td>\n",
       "      <td>Male</td>\n",
       "      <td>7000</td>\n",
       "      <td>4.0</td>\n",
       "    </tr>\n",
       "    <tr>\n",
       "      <th>2</th>\n",
       "      <td>103</td>\n",
       "      <td>Charlie</td>\n",
       "      <td>IT</td>\n",
       "      <td>41</td>\n",
       "      <td>65000</td>\n",
       "      <td>10</td>\n",
       "      <td>2013-06-01</td>\n",
       "      <td>Male</td>\n",
       "      <td>6000</td>\n",
       "      <td>3.8</td>\n",
       "    </tr>\n",
       "    <tr>\n",
       "      <th>3</th>\n",
       "      <td>104</td>\n",
       "      <td>Diana</td>\n",
       "      <td>Marketing</td>\n",
       "      <td>28</td>\n",
       "      <td>55000</td>\n",
       "      <td>3</td>\n",
       "      <td>2021-02-10</td>\n",
       "      <td>Female</td>\n",
       "      <td>4500</td>\n",
       "      <td>4.7</td>\n",
       "    </tr>\n",
       "    <tr>\n",
       "      <th>4</th>\n",
       "      <td>105</td>\n",
       "      <td>Edward</td>\n",
       "      <td>Sales</td>\n",
       "      <td>38</td>\n",
       "      <td>60000</td>\n",
       "      <td>12</td>\n",
       "      <td>2010-11-25</td>\n",
       "      <td>Male</td>\n",
       "      <td>5000</td>\n",
       "      <td>3.5</td>\n",
       "    </tr>\n",
       "  </tbody>\n",
       "</table>\n",
       "</div>"
      ]
     },
     "metadata": {},
     "output_type": "display_data"
    }
   ],
   "execution_count": 14
  },
  {
   "metadata": {
    "ExecuteTime": {
     "end_time": "2025-01-27T11:53:11.146569Z",
     "start_time": "2025-01-27T11:53:11.140902Z"
    }
   },
   "cell_type": "code",
   "source": [
    "#get shape\n",
    "print(\"Shape: \", df.shape)\n",
    "\n",
    "\n",
    "print('\\nSummary: ',df.info())"
   ],
   "id": "e0daa3d4cc81b8b5",
   "outputs": [
    {
     "name": "stdout",
     "output_type": "stream",
     "text": [
      "Shape:  (5, 10)\n",
      "<class 'pandas.core.frame.DataFrame'>\n",
      "RangeIndex: 5 entries, 0 to 4\n",
      "Data columns (total 10 columns):\n",
      " #   Column               Non-Null Count  Dtype  \n",
      "---  ------               --------------  -----  \n",
      " 0   Employee_Id          5 non-null      int64  \n",
      " 1   Name                 5 non-null      object \n",
      " 2   Department           5 non-null      object \n",
      " 3   Age                  5 non-null      int64  \n",
      " 4   Salary               5 non-null      int64  \n",
      " 5   Years of Experience  5 non-null      int64  \n",
      " 6   Joining Date         5 non-null      object \n",
      " 7   Gender               5 non-null      object \n",
      " 8   Bonus                5 non-null      int64  \n",
      " 9   Rating               5 non-null      float64\n",
      "dtypes: float64(1), int64(5), object(4)\n",
      "memory usage: 532.0+ bytes\n",
      "\n",
      "Summary:  None\n"
     ]
    }
   ],
   "execution_count": 16
  },
  {
   "metadata": {
    "ExecuteTime": {
     "end_time": "2025-01-27T11:53:17.739377Z",
     "start_time": "2025-01-27T11:53:17.727120Z"
    }
   },
   "cell_type": "code",
   "source": [
    "# Get descriptive statistics\n",
    "print(df.describe())"
   ],
   "id": "55a7842b26965545",
   "outputs": [
    {
     "name": "stdout",
     "output_type": "stream",
     "text": [
      "       Employee_Id        Age       Salary  Years of Experience   Bonus  \\\n",
      "count     5.000000   5.000000      5.00000             5.000000     5.0   \n",
      "mean    103.000000  34.000000  60000.00000             7.400000  5500.0   \n",
      "std       1.581139   5.612486   7905.69415             3.847077  1000.0   \n",
      "min     101.000000  28.000000  50000.00000             3.000000  4500.0   \n",
      "25%     102.000000  29.000000  55000.00000             4.000000  5000.0   \n",
      "50%     103.000000  34.000000  60000.00000             8.000000  5000.0   \n",
      "75%     104.000000  38.000000  65000.00000            10.000000  6000.0   \n",
      "max     105.000000  41.000000  70000.00000            12.000000  7000.0   \n",
      "\n",
      "         Rating  \n",
      "count  5.000000  \n",
      "mean   4.100000  \n",
      "std    0.494975  \n",
      "min    3.500000  \n",
      "25%    3.800000  \n",
      "50%    4.000000  \n",
      "75%    4.500000  \n",
      "max    4.700000  \n"
     ]
    }
   ],
   "execution_count": 17
  },
  {
   "metadata": {
    "ExecuteTime": {
     "end_time": "2025-01-27T11:53:29.007116Z",
     "start_time": "2025-01-27T11:53:28.997962Z"
    }
   },
   "cell_type": "code",
   "source": [
    "# Display the first 5 rows\n",
    "print(\"First 5 rows of the dataset:\")\n",
    "display(df.head())\n",
    "\n",
    "# Display the last 3 rows\n",
    "print(\"Last 3 rows of the dataset:\")\n",
    "print(df.tail(3))"
   ],
   "id": "74d5b6ea5e9b8819",
   "outputs": [
    {
     "name": "stdout",
     "output_type": "stream",
     "text": [
      "First 5 rows of the dataset:\n"
     ]
    },
    {
     "data": {
      "text/plain": [
       "   Employee_Id     Name Department  Age  Salary  Years of Experience  \\\n",
       "0          101    Alice         HR   29   50000                    4   \n",
       "1          102      Bob         IT   34   70000                    8   \n",
       "2          103  Charlie         IT   41   65000                   10   \n",
       "3          104    Diana  Marketing   28   55000                    3   \n",
       "4          105   Edward      Sales   38   60000                   12   \n",
       "\n",
       "  Joining Date  Gender  Bonus  Rating  \n",
       "0  2020-03-15   Female   5000     4.5  \n",
       "1   2017-07-19    Male   7000     4.0  \n",
       "2   2013-06-01    Male   6000     3.8  \n",
       "3   2021-02-10  Female   4500     4.7  \n",
       "4  2010-11-25     Male   5000     3.5  "
      ],
      "text/html": [
       "<div>\n",
       "<style scoped>\n",
       "    .dataframe tbody tr th:only-of-type {\n",
       "        vertical-align: middle;\n",
       "    }\n",
       "\n",
       "    .dataframe tbody tr th {\n",
       "        vertical-align: top;\n",
       "    }\n",
       "\n",
       "    .dataframe thead th {\n",
       "        text-align: right;\n",
       "    }\n",
       "</style>\n",
       "<table border=\"1\" class=\"dataframe\">\n",
       "  <thead>\n",
       "    <tr style=\"text-align: right;\">\n",
       "      <th></th>\n",
       "      <th>Employee_Id</th>\n",
       "      <th>Name</th>\n",
       "      <th>Department</th>\n",
       "      <th>Age</th>\n",
       "      <th>Salary</th>\n",
       "      <th>Years of Experience</th>\n",
       "      <th>Joining Date</th>\n",
       "      <th>Gender</th>\n",
       "      <th>Bonus</th>\n",
       "      <th>Rating</th>\n",
       "    </tr>\n",
       "  </thead>\n",
       "  <tbody>\n",
       "    <tr>\n",
       "      <th>0</th>\n",
       "      <td>101</td>\n",
       "      <td>Alice</td>\n",
       "      <td>HR</td>\n",
       "      <td>29</td>\n",
       "      <td>50000</td>\n",
       "      <td>4</td>\n",
       "      <td>2020-03-15</td>\n",
       "      <td>Female</td>\n",
       "      <td>5000</td>\n",
       "      <td>4.5</td>\n",
       "    </tr>\n",
       "    <tr>\n",
       "      <th>1</th>\n",
       "      <td>102</td>\n",
       "      <td>Bob</td>\n",
       "      <td>IT</td>\n",
       "      <td>34</td>\n",
       "      <td>70000</td>\n",
       "      <td>8</td>\n",
       "      <td>2017-07-19</td>\n",
       "      <td>Male</td>\n",
       "      <td>7000</td>\n",
       "      <td>4.0</td>\n",
       "    </tr>\n",
       "    <tr>\n",
       "      <th>2</th>\n",
       "      <td>103</td>\n",
       "      <td>Charlie</td>\n",
       "      <td>IT</td>\n",
       "      <td>41</td>\n",
       "      <td>65000</td>\n",
       "      <td>10</td>\n",
       "      <td>2013-06-01</td>\n",
       "      <td>Male</td>\n",
       "      <td>6000</td>\n",
       "      <td>3.8</td>\n",
       "    </tr>\n",
       "    <tr>\n",
       "      <th>3</th>\n",
       "      <td>104</td>\n",
       "      <td>Diana</td>\n",
       "      <td>Marketing</td>\n",
       "      <td>28</td>\n",
       "      <td>55000</td>\n",
       "      <td>3</td>\n",
       "      <td>2021-02-10</td>\n",
       "      <td>Female</td>\n",
       "      <td>4500</td>\n",
       "      <td>4.7</td>\n",
       "    </tr>\n",
       "    <tr>\n",
       "      <th>4</th>\n",
       "      <td>105</td>\n",
       "      <td>Edward</td>\n",
       "      <td>Sales</td>\n",
       "      <td>38</td>\n",
       "      <td>60000</td>\n",
       "      <td>12</td>\n",
       "      <td>2010-11-25</td>\n",
       "      <td>Male</td>\n",
       "      <td>5000</td>\n",
       "      <td>3.5</td>\n",
       "    </tr>\n",
       "  </tbody>\n",
       "</table>\n",
       "</div>"
      ]
     },
     "metadata": {},
     "output_type": "display_data"
    },
    {
     "name": "stdout",
     "output_type": "stream",
     "text": [
      "Last 3 rows of the dataset:\n",
      "   Employee_Id     Name Department  Age  Salary  Years of Experience  \\\n",
      "2          103  Charlie         IT   41   65000                   10   \n",
      "3          104    Diana  Marketing   28   55000                    3   \n",
      "4          105   Edward      Sales   38   60000                   12   \n",
      "\n",
      "  Joining Date  Gender  Bonus  Rating  \n",
      "2   2013-06-01    Male   6000     3.8  \n",
      "3   2021-02-10  Female   4500     4.7  \n",
      "4  2010-11-25     Male   5000     3.5  \n"
     ]
    }
   ],
   "execution_count": 18
  },
  {
   "metadata": {
    "ExecuteTime": {
     "end_time": "2025-01-27T11:53:45.505726Z",
     "start_time": "2025-01-27T11:53:45.502013Z"
    }
   },
   "cell_type": "code",
   "source": [
    "# Calculate specific statistics\n",
    "print(\"Average Salary:\", df[\"Salary\"].mean())\n",
    "print(\"Total Bonus:\", df[\"Bonus\"].sum())\n",
    "print(\"Youngest Employee Age:\", df[\"Age\"].min())\n",
    "print(\"Highest Rating:\", df[\"Rating\"].max())"
   ],
   "id": "7bd89a376ebe091c",
   "outputs": [
    {
     "name": "stdout",
     "output_type": "stream",
     "text": [
      "Average Salary: 60000.0\n",
      "Total Bonus: 27500\n",
      "Youngest Employee Age: 28\n",
      "Highest Rating: 4.7\n"
     ]
    }
   ],
   "execution_count": 19
  },
  {
   "metadata": {
    "ExecuteTime": {
     "end_time": "2025-01-27T11:53:51.659324Z",
     "start_time": "2025-01-27T11:53:51.653011Z"
    }
   },
   "cell_type": "code",
   "source": [
    "# Sort by Salary in descending order\n",
    "sorted_df = df.sort_values(by=\"Salary\", ascending=False)\n",
    "display(sorted_df)"
   ],
   "id": "70d5dac40dbae6fd",
   "outputs": [
    {
     "data": {
      "text/plain": [
       "   Employee_Id     Name Department  Age  Salary  Years of Experience  \\\n",
       "1          102      Bob         IT   34   70000                    8   \n",
       "2          103  Charlie         IT   41   65000                   10   \n",
       "4          105   Edward      Sales   38   60000                   12   \n",
       "3          104    Diana  Marketing   28   55000                    3   \n",
       "0          101    Alice         HR   29   50000                    4   \n",
       "\n",
       "  Joining Date  Gender  Bonus  Rating  \n",
       "1   2017-07-19    Male   7000     4.0  \n",
       "2   2013-06-01    Male   6000     3.8  \n",
       "4  2010-11-25     Male   5000     3.5  \n",
       "3   2021-02-10  Female   4500     4.7  \n",
       "0  2020-03-15   Female   5000     4.5  "
      ],
      "text/html": [
       "<div>\n",
       "<style scoped>\n",
       "    .dataframe tbody tr th:only-of-type {\n",
       "        vertical-align: middle;\n",
       "    }\n",
       "\n",
       "    .dataframe tbody tr th {\n",
       "        vertical-align: top;\n",
       "    }\n",
       "\n",
       "    .dataframe thead th {\n",
       "        text-align: right;\n",
       "    }\n",
       "</style>\n",
       "<table border=\"1\" class=\"dataframe\">\n",
       "  <thead>\n",
       "    <tr style=\"text-align: right;\">\n",
       "      <th></th>\n",
       "      <th>Employee_Id</th>\n",
       "      <th>Name</th>\n",
       "      <th>Department</th>\n",
       "      <th>Age</th>\n",
       "      <th>Salary</th>\n",
       "      <th>Years of Experience</th>\n",
       "      <th>Joining Date</th>\n",
       "      <th>Gender</th>\n",
       "      <th>Bonus</th>\n",
       "      <th>Rating</th>\n",
       "    </tr>\n",
       "  </thead>\n",
       "  <tbody>\n",
       "    <tr>\n",
       "      <th>1</th>\n",
       "      <td>102</td>\n",
       "      <td>Bob</td>\n",
       "      <td>IT</td>\n",
       "      <td>34</td>\n",
       "      <td>70000</td>\n",
       "      <td>8</td>\n",
       "      <td>2017-07-19</td>\n",
       "      <td>Male</td>\n",
       "      <td>7000</td>\n",
       "      <td>4.0</td>\n",
       "    </tr>\n",
       "    <tr>\n",
       "      <th>2</th>\n",
       "      <td>103</td>\n",
       "      <td>Charlie</td>\n",
       "      <td>IT</td>\n",
       "      <td>41</td>\n",
       "      <td>65000</td>\n",
       "      <td>10</td>\n",
       "      <td>2013-06-01</td>\n",
       "      <td>Male</td>\n",
       "      <td>6000</td>\n",
       "      <td>3.8</td>\n",
       "    </tr>\n",
       "    <tr>\n",
       "      <th>4</th>\n",
       "      <td>105</td>\n",
       "      <td>Edward</td>\n",
       "      <td>Sales</td>\n",
       "      <td>38</td>\n",
       "      <td>60000</td>\n",
       "      <td>12</td>\n",
       "      <td>2010-11-25</td>\n",
       "      <td>Male</td>\n",
       "      <td>5000</td>\n",
       "      <td>3.5</td>\n",
       "    </tr>\n",
       "    <tr>\n",
       "      <th>3</th>\n",
       "      <td>104</td>\n",
       "      <td>Diana</td>\n",
       "      <td>Marketing</td>\n",
       "      <td>28</td>\n",
       "      <td>55000</td>\n",
       "      <td>3</td>\n",
       "      <td>2021-02-10</td>\n",
       "      <td>Female</td>\n",
       "      <td>4500</td>\n",
       "      <td>4.7</td>\n",
       "    </tr>\n",
       "    <tr>\n",
       "      <th>0</th>\n",
       "      <td>101</td>\n",
       "      <td>Alice</td>\n",
       "      <td>HR</td>\n",
       "      <td>29</td>\n",
       "      <td>50000</td>\n",
       "      <td>4</td>\n",
       "      <td>2020-03-15</td>\n",
       "      <td>Female</td>\n",
       "      <td>5000</td>\n",
       "      <td>4.5</td>\n",
       "    </tr>\n",
       "  </tbody>\n",
       "</table>\n",
       "</div>"
      ]
     },
     "metadata": {},
     "output_type": "display_data"
    }
   ],
   "execution_count": 20
  },
  {
   "metadata": {
    "ExecuteTime": {
     "end_time": "2025-01-27T11:54:16.576287Z",
     "start_time": "2025-01-27T11:54:16.569555Z"
    }
   },
   "cell_type": "code",
   "source": [
    "filtered_df = df[(df[\"Years of Experience\"] > 5) & (df[\"Department\"] == \"IT\")]\n",
    "print(filtered_df)"
   ],
   "id": "1cd4b89380e563b4",
   "outputs": [
    {
     "name": "stdout",
     "output_type": "stream",
     "text": [
      "   Employee_Id     Name Department  Age  Salary  Years of Experience  \\\n",
      "1          102      Bob         IT   34   70000                    8   \n",
      "2          103  Charlie         IT   41   65000                   10   \n",
      "\n",
      "  Joining Date Gender  Bonus  Rating  \n",
      "1   2017-07-19   Male   7000     4.0  \n",
      "2   2013-06-01   Male   6000     3.8  \n"
     ]
    }
   ],
   "execution_count": 23
  },
  {
   "metadata": {
    "ExecuteTime": {
     "end_time": "2025-01-27T11:54:52.809643Z",
     "start_time": "2025-01-27T11:54:52.805659Z"
    }
   },
   "cell_type": "code",
   "source": "print(df.isnull().sum())",
   "id": "904517be2846f288",
   "outputs": [
    {
     "name": "stdout",
     "output_type": "stream",
     "text": [
      "Employee_Id            0\n",
      "Name                   0\n",
      "Department             0\n",
      "Age                    0\n",
      "Salary                 0\n",
      "Years of Experience    0\n",
      "Joining Date           0\n",
      "Gender                 0\n",
      "Bonus                  0\n",
      "Rating                 0\n",
      "dtype: int64\n"
     ]
    }
   ],
   "execution_count": 24
  },
  {
   "metadata": {
    "ExecuteTime": {
     "end_time": "2025-01-27T11:55:58.922707Z",
     "start_time": "2025-01-27T11:55:58.913716Z"
    }
   },
   "cell_type": "code",
   "source": [
    "# Rename the Employee_ID column to ID.\n",
    "print(\"Renaming Employee_ID to ID\")\n",
    "df.rename(columns={\"Employee_ID\":\"ID\"},inplace=True)\n",
    "print(df)\n",
    "print(\"\\n\")"
   ],
   "id": "e6e0dcf7535848c1",
   "outputs": [
    {
     "name": "stdout",
     "output_type": "stream",
     "text": [
      "Renaming Employee_ID to ID\n",
      "   Employee_Id     Name Department  Age  Salary  Years of Experience  \\\n",
      "0          101    Alice         HR   29   50000                    4   \n",
      "1          102      Bob         IT   34   70000                    8   \n",
      "2          103  Charlie         IT   41   65000                   10   \n",
      "3          104    Diana  Marketing   28   55000                    3   \n",
      "4          105   Edward      Sales   38   60000                   12   \n",
      "\n",
      "  Joining Date  Gender  Bonus  Rating  \n",
      "0  2020-03-15   Female   5000     4.5  \n",
      "1   2017-07-19    Male   7000     4.0  \n",
      "2   2013-06-01    Male   6000     3.8  \n",
      "3   2021-02-10  Female   4500     4.7  \n",
      "4  2010-11-25     Male   5000     3.5  \n",
      "\n",
      "\n"
     ]
    }
   ],
   "execution_count": 25
  },
  {
   "metadata": {
    "ExecuteTime": {
     "end_time": "2025-01-27T11:56:38.394716Z",
     "start_time": "2025-01-27T11:56:38.385459Z"
    }
   },
   "cell_type": "code",
   "source": [
    "print(\"Employees have more than 5 years of experience\\n\")\n",
    "Data_required=df[(df[\"Years of Experience\"]>5)]\n",
    "print(Data_required)\n",
    "print(\"\\n\")\n",
    "\n",
    "print(\"Employees belong to IT department\\n\")\n",
    "Data_required=df[(df[\"Department\"]==\"IT\")]\n",
    "display(Data_required)\n",
    "print(\"\\n\")"
   ],
   "id": "2bed852735b3efb6",
   "outputs": [
    {
     "name": "stdout",
     "output_type": "stream",
     "text": [
      "Employees have more than 5 years of experience\n",
      "\n",
      "   Employee_Id     Name Department  Age  Salary  Years of Experience  \\\n",
      "1          102      Bob         IT   34   70000                    8   \n",
      "2          103  Charlie         IT   41   65000                   10   \n",
      "4          105   Edward      Sales   38   60000                   12   \n",
      "\n",
      "  Joining Date Gender  Bonus  Rating  \n",
      "1   2017-07-19   Male   7000     4.0  \n",
      "2   2013-06-01   Male   6000     3.8  \n",
      "4  2010-11-25    Male   5000     3.5  \n",
      "\n",
      "\n",
      "Employees belong to IT department\n",
      "\n"
     ]
    },
    {
     "data": {
      "text/plain": [
       "   Employee_Id     Name Department  Age  Salary  Years of Experience  \\\n",
       "1          102      Bob         IT   34   70000                    8   \n",
       "2          103  Charlie         IT   41   65000                   10   \n",
       "\n",
       "  Joining Date Gender  Bonus  Rating  \n",
       "1   2017-07-19   Male   7000     4.0  \n",
       "2   2013-06-01   Male   6000     3.8  "
      ],
      "text/html": [
       "<div>\n",
       "<style scoped>\n",
       "    .dataframe tbody tr th:only-of-type {\n",
       "        vertical-align: middle;\n",
       "    }\n",
       "\n",
       "    .dataframe tbody tr th {\n",
       "        vertical-align: top;\n",
       "    }\n",
       "\n",
       "    .dataframe thead th {\n",
       "        text-align: right;\n",
       "    }\n",
       "</style>\n",
       "<table border=\"1\" class=\"dataframe\">\n",
       "  <thead>\n",
       "    <tr style=\"text-align: right;\">\n",
       "      <th></th>\n",
       "      <th>Employee_Id</th>\n",
       "      <th>Name</th>\n",
       "      <th>Department</th>\n",
       "      <th>Age</th>\n",
       "      <th>Salary</th>\n",
       "      <th>Years of Experience</th>\n",
       "      <th>Joining Date</th>\n",
       "      <th>Gender</th>\n",
       "      <th>Bonus</th>\n",
       "      <th>Rating</th>\n",
       "    </tr>\n",
       "  </thead>\n",
       "  <tbody>\n",
       "    <tr>\n",
       "      <th>1</th>\n",
       "      <td>102</td>\n",
       "      <td>Bob</td>\n",
       "      <td>IT</td>\n",
       "      <td>34</td>\n",
       "      <td>70000</td>\n",
       "      <td>8</td>\n",
       "      <td>2017-07-19</td>\n",
       "      <td>Male</td>\n",
       "      <td>7000</td>\n",
       "      <td>4.0</td>\n",
       "    </tr>\n",
       "    <tr>\n",
       "      <th>2</th>\n",
       "      <td>103</td>\n",
       "      <td>Charlie</td>\n",
       "      <td>IT</td>\n",
       "      <td>41</td>\n",
       "      <td>65000</td>\n",
       "      <td>10</td>\n",
       "      <td>2013-06-01</td>\n",
       "      <td>Male</td>\n",
       "      <td>6000</td>\n",
       "      <td>3.8</td>\n",
       "    </tr>\n",
       "  </tbody>\n",
       "</table>\n",
       "</div>"
      ]
     },
     "metadata": {},
     "output_type": "display_data"
    },
    {
     "name": "stdout",
     "output_type": "stream",
     "text": [
      "\n",
      "\n"
     ]
    }
   ],
   "execution_count": 30
  },
  {
   "metadata": {
    "ExecuteTime": {
     "end_time": "2025-01-27T11:57:04.972289Z",
     "start_time": "2025-01-27T11:57:04.963737Z"
    }
   },
   "cell_type": "code",
   "source": [
    "print(\"Adding a new colum Tax\")\n",
    "df[\"Tax\"] = df[\"Salary\"] * 0.1\n",
    "display(df)\n"
   ],
   "id": "d00af2e983554fac",
   "outputs": [
    {
     "name": "stdout",
     "output_type": "stream",
     "text": [
      "Adding a new colum Tax\n"
     ]
    },
    {
     "data": {
      "text/plain": [
       "   Employee_Id     Name Department  Age  Salary  Years of Experience  \\\n",
       "0          101    Alice         HR   29   50000                    4   \n",
       "1          102      Bob         IT   34   70000                    8   \n",
       "2          103  Charlie         IT   41   65000                   10   \n",
       "3          104    Diana  Marketing   28   55000                    3   \n",
       "4          105   Edward      Sales   38   60000                   12   \n",
       "\n",
       "  Joining Date  Gender  Bonus  Rating     Tax  \n",
       "0  2020-03-15   Female   5000     4.5  5000.0  \n",
       "1   2017-07-19    Male   7000     4.0  7000.0  \n",
       "2   2013-06-01    Male   6000     3.8  6500.0  \n",
       "3   2021-02-10  Female   4500     4.7  5500.0  \n",
       "4  2010-11-25     Male   5000     3.5  6000.0  "
      ],
      "text/html": [
       "<div>\n",
       "<style scoped>\n",
       "    .dataframe tbody tr th:only-of-type {\n",
       "        vertical-align: middle;\n",
       "    }\n",
       "\n",
       "    .dataframe tbody tr th {\n",
       "        vertical-align: top;\n",
       "    }\n",
       "\n",
       "    .dataframe thead th {\n",
       "        text-align: right;\n",
       "    }\n",
       "</style>\n",
       "<table border=\"1\" class=\"dataframe\">\n",
       "  <thead>\n",
       "    <tr style=\"text-align: right;\">\n",
       "      <th></th>\n",
       "      <th>Employee_Id</th>\n",
       "      <th>Name</th>\n",
       "      <th>Department</th>\n",
       "      <th>Age</th>\n",
       "      <th>Salary</th>\n",
       "      <th>Years of Experience</th>\n",
       "      <th>Joining Date</th>\n",
       "      <th>Gender</th>\n",
       "      <th>Bonus</th>\n",
       "      <th>Rating</th>\n",
       "      <th>Tax</th>\n",
       "    </tr>\n",
       "  </thead>\n",
       "  <tbody>\n",
       "    <tr>\n",
       "      <th>0</th>\n",
       "      <td>101</td>\n",
       "      <td>Alice</td>\n",
       "      <td>HR</td>\n",
       "      <td>29</td>\n",
       "      <td>50000</td>\n",
       "      <td>4</td>\n",
       "      <td>2020-03-15</td>\n",
       "      <td>Female</td>\n",
       "      <td>5000</td>\n",
       "      <td>4.5</td>\n",
       "      <td>5000.0</td>\n",
       "    </tr>\n",
       "    <tr>\n",
       "      <th>1</th>\n",
       "      <td>102</td>\n",
       "      <td>Bob</td>\n",
       "      <td>IT</td>\n",
       "      <td>34</td>\n",
       "      <td>70000</td>\n",
       "      <td>8</td>\n",
       "      <td>2017-07-19</td>\n",
       "      <td>Male</td>\n",
       "      <td>7000</td>\n",
       "      <td>4.0</td>\n",
       "      <td>7000.0</td>\n",
       "    </tr>\n",
       "    <tr>\n",
       "      <th>2</th>\n",
       "      <td>103</td>\n",
       "      <td>Charlie</td>\n",
       "      <td>IT</td>\n",
       "      <td>41</td>\n",
       "      <td>65000</td>\n",
       "      <td>10</td>\n",
       "      <td>2013-06-01</td>\n",
       "      <td>Male</td>\n",
       "      <td>6000</td>\n",
       "      <td>3.8</td>\n",
       "      <td>6500.0</td>\n",
       "    </tr>\n",
       "    <tr>\n",
       "      <th>3</th>\n",
       "      <td>104</td>\n",
       "      <td>Diana</td>\n",
       "      <td>Marketing</td>\n",
       "      <td>28</td>\n",
       "      <td>55000</td>\n",
       "      <td>3</td>\n",
       "      <td>2021-02-10</td>\n",
       "      <td>Female</td>\n",
       "      <td>4500</td>\n",
       "      <td>4.7</td>\n",
       "      <td>5500.0</td>\n",
       "    </tr>\n",
       "    <tr>\n",
       "      <th>4</th>\n",
       "      <td>105</td>\n",
       "      <td>Edward</td>\n",
       "      <td>Sales</td>\n",
       "      <td>38</td>\n",
       "      <td>60000</td>\n",
       "      <td>12</td>\n",
       "      <td>2010-11-25</td>\n",
       "      <td>Male</td>\n",
       "      <td>5000</td>\n",
       "      <td>3.5</td>\n",
       "      <td>6000.0</td>\n",
       "    </tr>\n",
       "  </tbody>\n",
       "</table>\n",
       "</div>"
      ]
     },
     "metadata": {},
     "output_type": "display_data"
    }
   ],
   "execution_count": 32
  },
  {
   "metadata": {
    "ExecuteTime": {
     "end_time": "2025-01-27T11:57:30.611868Z",
     "start_time": "2025-01-27T11:57:30.606853Z"
    }
   },
   "cell_type": "code",
   "source": "df.to_csv('new_employees.csv',index=False)",
   "id": "fe3243aa151a58d4",
   "outputs": [],
   "execution_count": 34
  }
 ],
 "metadata": {
  "kernelspec": {
   "display_name": "Python 3",
   "language": "python",
   "name": "python3"
  },
  "language_info": {
   "codemirror_mode": {
    "name": "ipython",
    "version": 2
   },
   "file_extension": ".py",
   "mimetype": "text/x-python",
   "name": "python",
   "nbconvert_exporter": "python",
   "pygments_lexer": "ipython2",
   "version": "2.7.6"
  }
 },
 "nbformat": 4,
 "nbformat_minor": 5
}
