{
 "cells": [
  {
   "metadata": {},
   "cell_type": "markdown",
   "source": [
    "# ASSIGNMEENT 5 NUMPY PART 2 - BY HARSH BADHAN\n",
    "* Assigned on 6th Feb, 2025"
   ],
   "id": "dc00f4cad4bc7438"
  },
  {
   "metadata": {},
   "cell_type": "markdown",
   "source": [
    "Q.1 For the array gfg = np.matrix('[4, 1, 9; 12, 3, 1; 4, 5, 6]'), Find\n",
    "\n",
    "i. Sum of all elements\n",
    "\n",
    "ii. Sum of all elements row-wise\n",
    "\n",
    "iii. Sum of all elements column-wise"
   ],
   "id": "b2ff190a66ff1631"
  },
  {
   "metadata": {
    "ExecuteTime": {
     "end_time": "2025-02-10T06:10:42.809438Z",
     "start_time": "2025-02-10T06:10:42.731253Z"
    }
   },
   "cell_type": "code",
   "source": [
    "import numpy as np\n",
    "\n",
    "gfg = np.matrix('[4, 1, 9; 12, 3, 1; 4, 5, 6]')\n",
    "sum = gfg.sum()\n",
    "print('Sum of all the elements of 2D Array: ',sum)\n",
    "\n",
    "row_wise_Sum = gfg.sum(axis=1)\n",
    "print('Sum of all the elements row wise: ',row_wise_Sum)\n",
    "\n",
    "column_wise_Sum = gfg.sum(axis=0)\n",
    "print('Sum of all the elements Column wise: ',column_wise_Sum)\n"
   ],
   "id": "5ca803b755e8bafa",
   "outputs": [
    {
     "name": "stdout",
     "output_type": "stream",
     "text": [
      "Sum of all the elements of 2D Array:  45\n",
      "Sum of all the elements row wise:  [[14]\n",
      " [16]\n",
      " [15]]\n",
      "Sum of all the elements Column wise:  [[20  9 16]]\n"
     ]
    }
   ],
   "execution_count": 2
  },
  {
   "metadata": {},
   "cell_type": "markdown",
   "source": [
    "Q.2 (a)For the array: array = np.array([10, 52, 62, 16, 16, 54, 453]), find\n",
    "\n",
    "i. Sorted array\n",
    "\n",
    "ii. Indices of sorted array\n",
    "\n",
    "iii. 4 smallest elements\n",
    "\n",
    "iv. 5 largest elements\n",
    "\n",
    "(b) For the array: array = np.array([1.0, 1.2, 2.2, 2.0, 3.0, 2.0]), find\n",
    "\n",
    "i. Integer elements only\n",
    "\n",
    "ii. Float elements only"
   ],
   "id": "b4e878044487f98f"
  },
  {
   "metadata": {
    "ExecuteTime": {
     "end_time": "2025-02-10T06:10:45.776533Z",
     "start_time": "2025-02-10T06:10:45.771019Z"
    }
   },
   "cell_type": "code",
   "source": [
    "array = np.array([10, 52, 62, 16, 16, 54, 453])\n",
    "\n",
    "sorted_array = np.sort(array)\n",
    "print('Sorted array: ',sorted_array)"
   ],
   "id": "d2753917c11b7c54",
   "outputs": [
    {
     "name": "stdout",
     "output_type": "stream",
     "text": [
      "Sorted array:  [ 10  16  16  52  54  62 453]\n"
     ]
    }
   ],
   "execution_count": 3
  },
  {
   "metadata": {
    "ExecuteTime": {
     "end_time": "2025-02-10T06:10:47.383290Z",
     "start_time": "2025-02-10T06:10:47.379576Z"
    }
   },
   "cell_type": "code",
   "source": [
    "indices = np.argsort(array)\n",
    "print(\"The indices of sorted array: \",indices)"
   ],
   "id": "8701245dbf58bbe2",
   "outputs": [
    {
     "name": "stdout",
     "output_type": "stream",
     "text": [
      "The indices of sorted array:  [0 3 4 1 5 2 6]\n"
     ]
    }
   ],
   "execution_count": 4
  },
  {
   "metadata": {
    "ExecuteTime": {
     "end_time": "2025-02-10T06:10:48.874975Z",
     "start_time": "2025-02-10T06:10:48.871482Z"
    }
   },
   "cell_type": "code",
   "source": [
    "smallest_elements = np.partition(array, 4)[:4]\n",
    "print(\"4 smallest elements: \",smallest_elements)"
   ],
   "id": "5a95a6402b72e959",
   "outputs": [
    {
     "name": "stdout",
     "output_type": "stream",
     "text": [
      "4 smallest elements:  [16 10 16 52]\n"
     ]
    }
   ],
   "execution_count": 5
  },
  {
   "metadata": {
    "ExecuteTime": {
     "end_time": "2025-02-10T06:11:36.420540Z",
     "start_time": "2025-02-10T06:11:36.408444Z"
    }
   },
   "cell_type": "code",
   "source": [
    "array = np.array([1.0, 1.2, 2.2, 2.0, 3.0, 2.0])\n",
    "largest_5 = np.sort(array)[-5:]\n",
    "largest_5"
   ],
   "id": "6bd5f7697735132c",
   "outputs": [
    {
     "data": {
      "text/plain": [
       "array([1.2, 2. , 2. , 2.2, 3. ])"
      ]
     },
     "execution_count": 12,
     "metadata": {},
     "output_type": "execute_result"
    }
   ],
   "execution_count": 12
  },
  {
   "metadata": {
    "ExecuteTime": {
     "end_time": "2025-02-10T06:11:49.171831Z",
     "start_time": "2025-02-10T06:11:49.165368Z"
    }
   },
   "cell_type": "code",
   "source": [
    "array = np.array([1.0, 1.2, 2.2, 2.0, 3.0, 2.0])\n",
    "\n",
    "integer_mask = array.astype(int)\n",
    "integer_elements = array[integer_mask]\n",
    "integer_elements\n"
   ],
   "id": "936c9c98212306e",
   "outputs": [
    {
     "data": {
      "text/plain": [
       "array([1.2, 1.2, 2.2, 2.2, 2. , 2.2])"
      ]
     },
     "execution_count": 14,
     "metadata": {},
     "output_type": "execute_result"
    }
   ],
   "execution_count": 14
  },
  {
   "metadata": {
    "ExecuteTime": {
     "end_time": "2025-02-10T06:11:59.480669Z",
     "start_time": "2025-02-10T06:11:59.474271Z"
    }
   },
   "cell_type": "code",
   "source": [
    "float_mask = array != array.astype(int)\n",
    "float_elements = array[float_mask]\n",
    "float_elements\n"
   ],
   "id": "cec0d4df97dfc35e",
   "outputs": [
    {
     "data": {
      "text/plain": [
       "array([1.2, 2.2])"
      ]
     },
     "execution_count": 15,
     "metadata": {},
     "output_type": "execute_result"
    }
   ],
   "execution_count": 15
  },
  {
   "metadata": {},
   "cell_type": "markdown",
   "source": [
    "# Q.3 You are given a weekly sales dataset and need to perform various operations using NumPy broadcasting.\n",
    "a) Generate your unique sales dataset:\n",
    " Take the sum of the ASCII values of the initials of your first and last\n",
    "name. Call this value X. (If your initials are A B → ASCII sum = 65\n",
    "+ 66 = 131 → sales = [131, 181, 231, 281, 331].)\n",
    " Create a NumPy array sales with values [X, X+50, X+100, X+150,\n",
    "X+200].\n",
    "\n",
    "\n",
    "b) Compute your personalized tax rate as ((X % 5) + 5) / 100.\n",
    " Use broadcasting to apply this tax rate to each sales value.\n",
    "\n",
    "\n",
    "c) Adjust sales based on discount:\n",
    " If sales < X+100, apply a 5% discount.\n",
    " If sales >= X+100, apply a 10% discount.\n",
    "\n",
    "\n",
    "d) Expand sales data for multiple weeks:\n",
    " Create a 3×5 matrix representing three weeks of sales by stacking\n",
    "sales three times using broadcasting.\n",
    " Increase sales by 2% per week using element-wise broadcasting."
   ],
   "id": "b34fb5b540410a99"
  },
  {
   "metadata": {},
   "cell_type": "code",
   "outputs": [],
   "execution_count": null,
   "source": "",
   "id": "f9c359430c054ecb"
  }
 ],
 "metadata": {
  "kernelspec": {
   "name": "python3",
   "language": "python",
   "display_name": "Python 3 (ipykernel)"
  }
 },
 "nbformat": 5,
 "nbformat_minor": 9
}
