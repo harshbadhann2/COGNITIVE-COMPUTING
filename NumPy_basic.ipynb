{
 "cells": [
  {
   "metadata": {
    "ExecuteTime": {
     "end_time": "2025-02-01T12:02:31.105336Z",
     "start_time": "2025-02-01T12:02:31.026119Z"
    }
   },
   "cell_type": "code",
   "source": "import numpy as np\n",
   "id": "350315f9e5e07d5f",
   "outputs": [],
   "execution_count": 16
  },
  {
   "metadata": {
    "ExecuteTime": {
     "end_time": "2025-02-01T12:02:33.084443Z",
     "start_time": "2025-02-01T12:02:33.079641Z"
    }
   },
   "cell_type": "code",
   "source": [
    "myarr = np.array([[3,6,9,12,15]])\n",
    "print(myarr)"
   ],
   "id": "f6b14be89b41d820",
   "outputs": [
    {
     "name": "stdout",
     "output_type": "stream",
     "text": [
      "[[ 3  6  9 12 15]]\n"
     ]
    }
   ],
   "execution_count": 18
  },
  {
   "metadata": {
    "ExecuteTime": {
     "end_time": "2025-02-01T12:02:34.363986Z",
     "start_time": "2025-02-01T12:02:34.360144Z"
    }
   },
   "cell_type": "code",
   "source": [
    "myarr = np.array([[3,6,9,12,15]])  # 2D array (1 row, 5 columns)\n",
    "# print(myarr.shape)  # Output: (1, 5)\n",
    "\n",
    "print(myarr[0,1])  # ✅ Correct indexing\n",
    "print(myarr.shape)"
   ],
   "id": "27014415df4cfec",
   "outputs": [
    {
     "name": "stdout",
     "output_type": "stream",
     "text": [
      "6\n",
      "(1, 5)\n"
     ]
    }
   ],
   "execution_count": 19
  },
  {
   "metadata": {
    "ExecuteTime": {
     "end_time": "2025-02-01T12:02:36.519911Z",
     "start_time": "2025-02-01T12:02:36.516829Z"
    }
   },
   "cell_type": "code",
   "source": [
    "print(myarr.shape)\n",
    "print(myarr.dtype)"
   ],
   "id": "24638a8459668fc1",
   "outputs": [
    {
     "name": "stdout",
     "output_type": "stream",
     "text": [
      "(1, 5)\n",
      "int64\n"
     ]
    }
   ],
   "execution_count": 20
  },
  {
   "metadata": {
    "ExecuteTime": {
     "end_time": "2025-02-01T12:04:28.374675Z",
     "start_time": "2025-02-01T12:04:28.371284Z"
    }
   },
   "cell_type": "code",
   "source": [
    "identity = np.eye(9)  #special numpy function to print the identity matrix\n",
    "print(identity)"
   ],
   "id": "4829060fd578583d",
   "outputs": [
    {
     "name": "stdout",
     "output_type": "stream",
     "text": [
      "[[1. 0. 0. 0. 0. 0. 0. 0. 0.]\n",
      " [0. 1. 0. 0. 0. 0. 0. 0. 0.]\n",
      " [0. 0. 1. 0. 0. 0. 0. 0. 0.]\n",
      " [0. 0. 0. 1. 0. 0. 0. 0. 0.]\n",
      " [0. 0. 0. 0. 1. 0. 0. 0. 0.]\n",
      " [0. 0. 0. 0. 0. 1. 0. 0. 0.]\n",
      " [0. 0. 0. 0. 0. 0. 1. 0. 0.]\n",
      " [0. 0. 0. 0. 0. 0. 0. 1. 0.]\n",
      " [0. 0. 0. 0. 0. 0. 0. 0. 1.]]\n"
     ]
    }
   ],
   "execution_count": 30
  },
  {
   "metadata": {},
   "cell_type": "markdown",
   "source": "## Indexing & Slicing\n",
   "id": "3e19819ac4bf4b3"
  },
  {
   "metadata": {
    "ExecuteTime": {
     "end_time": "2025-02-01T12:07:59.774197Z",
     "start_time": "2025-02-01T12:07:59.764095Z"
    }
   },
   "cell_type": "code",
   "source": [
    "arr = np.array([[1,2,3],[4,5,6],[7,8,9]])\n",
    "print(arr[2,2]) ##indexing\n",
    "\n",
    "print(arr[:,2])  #slicing"
   ],
   "id": "7175f4bcd280f24b",
   "outputs": [
    {
     "name": "stdout",
     "output_type": "stream",
     "text": [
      "9\n",
      "[3 6 9]\n"
     ]
    }
   ],
   "execution_count": 34
  },
  {
   "metadata": {},
   "cell_type": "markdown",
   "source": [
    "## MATHEMATICAL OPERATIONS\n",
    "* NumPy makes element-wise operations super easy!\n"
   ],
   "id": "c2532b41e21fe67d"
  },
  {
   "metadata": {
    "ExecuteTime": {
     "end_time": "2025-02-01T12:10:56.212171Z",
     "start_time": "2025-02-01T12:10:56.200257Z"
    }
   },
   "cell_type": "code",
   "source": [
    "arr_a = np.array([1,2,3])\n",
    "arr_b = np.array([4,5,6])\n",
    "arr_c = np.array([7,8,9])\n",
    "\n",
    "print(arr_a+arr_b+arr_c)\n",
    "print(arr_a * arr_b * arr_c)\n",
    "print(arr_a / arr_b)\n",
    "print(arr_a ** 2)\n"
   ],
   "id": "812033e4de1bb876",
   "outputs": [
    {
     "name": "stdout",
     "output_type": "stream",
     "text": [
      "[12 15 18]\n",
      "[ 28  80 162]\n",
      "[0.25 0.4  0.5 ]\n",
      "[1 4 9]\n"
     ]
    }
   ],
   "execution_count": 35
  },
  {
   "metadata": {},
   "cell_type": "markdown",
   "source": "# Aggregations & Statistics\n",
   "id": "496b2f7f4845b9ae"
  },
  {
   "metadata": {
    "ExecuteTime": {
     "end_time": "2025-02-01T12:14:25.587703Z",
     "start_time": "2025-02-01T12:14:25.582893Z"
    }
   },
   "cell_type": "code",
   "source": [
    "arr = np.array([1,2,3,4,5,6,7,8,9])\n",
    "\n",
    "print(np.mean(arr))\n",
    "print(np.median(arr))\n",
    "print(np.std(arr))\n",
    "print(np.var(arr))\n",
    "print(np.min(arr))\n",
    "print(np.max(arr))\n",
    "print(np.sum(arr, axis=0)) # Sum along columns: [5 7 9]\n",
    "\n"
   ],
   "id": "da98ec86196f93c5",
   "outputs": [
    {
     "name": "stdout",
     "output_type": "stream",
     "text": [
      "5.0\n",
      "5.0\n",
      "2.581988897471611\n",
      "6.666666666666667\n",
      "1\n",
      "9\n",
      "45\n"
     ]
    }
   ],
   "execution_count": 37
  },
  {
   "metadata": {
    "ExecuteTime": {
     "end_time": "2025-02-01T12:16:58.784372Z",
     "start_time": "2025-02-01T12:16:58.780421Z"
    }
   },
   "cell_type": "code",
   "source": [
    "arr = np.array([1, 2, 3, 4, 5, 6])\n",
    "new_arr = arr.reshape(2, 3)  # Reshape to 2x3 matrix\n",
    "\n",
    "print(new_arr)\n",
    "\n",
    "\n",
    "print(arr.T)  # Flip rows and columns"
   ],
   "id": "215a7a6da204748c",
   "outputs": [
    {
     "name": "stdout",
     "output_type": "stream",
     "text": [
      "[[1 2 3]\n",
      " [4 5 6]]\n",
      "[1 2 3 4 5 6]\n"
     ]
    }
   ],
   "execution_count": 48
  },
  {
   "metadata": {
    "ExecuteTime": {
     "end_time": "2025-02-01T12:17:12.017385Z",
     "start_time": "2025-02-01T12:17:12.005279Z"
    }
   },
   "cell_type": "code",
   "source": [
    "a = np.array([[1, 2], [3, 4]])\n",
    "b = np.array([[5, 6], [7, 8]])\n",
    "\n",
    "# Vertical stacking\n",
    "print(np.vstack((a, b)))\n",
    "\n",
    "# Horizontal stacking\n",
    "print(np.hstack((a, b)))"
   ],
   "id": "54aecea200638500",
   "outputs": [
    {
     "name": "stdout",
     "output_type": "stream",
     "text": [
      "[[1 2]\n",
      " [3 4]\n",
      " [5 6]\n",
      " [7 8]]\n",
      "[[1 2 5 6]\n",
      " [3 4 7 8]]\n"
     ]
    }
   ],
   "execution_count": 49
  }
 ],
 "metadata": {
  "kernelspec": {
   "name": "python3",
   "language": "python",
   "display_name": "Python 3 (ipykernel)"
  }
 },
 "nbformat": 5,
 "nbformat_minor": 9
}
