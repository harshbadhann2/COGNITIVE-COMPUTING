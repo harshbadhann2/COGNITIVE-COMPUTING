{
 "cells": [
  {
   "cell_type": "code",
   "execution_count": 2,
   "id": "350315f9e5e07d5f",
   "metadata": {
    "ExecuteTime": {
     "end_time": "2025-02-01T12:02:31.105336Z",
     "start_time": "2025-02-01T12:02:31.026119Z"
    }
   },
   "outputs": [],
   "source": [
    "import numpy as np\n"
   ]
  },
  {
   "cell_type": "code",
   "execution_count": 3,
   "id": "f6b14be89b41d820",
   "metadata": {
    "ExecuteTime": {
     "end_time": "2025-02-01T12:02:33.084443Z",
     "start_time": "2025-02-01T12:02:33.079641Z"
    }
   },
   "outputs": [
    {
     "name": "stdout",
     "output_type": "stream",
     "text": [
      "[[ 3  6  9 12 15]]\n"
     ]
    }
   ],
   "source": [
    "myarr = np.array([[3,6,9,12,15]])\n",
    "print(myarr)"
   ]
  },
  {
   "cell_type": "code",
   "execution_count": 4,
   "id": "27014415df4cfec",
   "metadata": {
    "ExecuteTime": {
     "end_time": "2025-02-01T12:02:34.363986Z",
     "start_time": "2025-02-01T12:02:34.360144Z"
    }
   },
   "outputs": [
    {
     "name": "stdout",
     "output_type": "stream",
     "text": [
      "6\n",
      "(1, 5)\n"
     ]
    }
   ],
   "source": [
    "myarr = np.array([[3,6,9,12,15]])  # 2D array (1 row, 5 columns)\n",
    "# print(myarr.shape)  # Output: (1, 5)\n",
    "\n",
    "print(myarr[0,1])  # ✅ Correct indexing\n",
    "print(myarr.shape)"
   ]
  },
  {
   "cell_type": "code",
   "execution_count": 5,
   "id": "24638a8459668fc1",
   "metadata": {
    "ExecuteTime": {
     "end_time": "2025-02-01T12:02:36.519911Z",
     "start_time": "2025-02-01T12:02:36.516829Z"
    }
   },
   "outputs": [
    {
     "name": "stdout",
     "output_type": "stream",
     "text": [
      "(1, 5)\n",
      "int64\n"
     ]
    }
   ],
   "source": [
    "print(myarr.shape)\n",
    "print(myarr.dtype)"
   ]
  },
  {
   "cell_type": "code",
   "execution_count": 6,
   "id": "4829060fd578583d",
   "metadata": {
    "ExecuteTime": {
     "end_time": "2025-02-01T12:04:28.374675Z",
     "start_time": "2025-02-01T12:04:28.371284Z"
    }
   },
   "outputs": [
    {
     "name": "stdout",
     "output_type": "stream",
     "text": [
      "[[1. 0. 0. 0. 0. 0. 0. 0. 0.]\n",
      " [0. 1. 0. 0. 0. 0. 0. 0. 0.]\n",
      " [0. 0. 1. 0. 0. 0. 0. 0. 0.]\n",
      " [0. 0. 0. 1. 0. 0. 0. 0. 0.]\n",
      " [0. 0. 0. 0. 1. 0. 0. 0. 0.]\n",
      " [0. 0. 0. 0. 0. 1. 0. 0. 0.]\n",
      " [0. 0. 0. 0. 0. 0. 1. 0. 0.]\n",
      " [0. 0. 0. 0. 0. 0. 0. 1. 0.]\n",
      " [0. 0. 0. 0. 0. 0. 0. 0. 1.]]\n"
     ]
    }
   ],
   "source": [
    "identity = np.eye(9)  #special numpy function to print the identity matrix\n",
    "print(identity)"
   ]
  },
  {
   "cell_type": "markdown",
   "id": "3e19819ac4bf4b3",
   "metadata": {},
   "source": [
    "## Indexing & Slicing\n"
   ]
  },
  {
   "cell_type": "code",
   "execution_count": 7,
   "id": "7175f4bcd280f24b",
   "metadata": {
    "ExecuteTime": {
     "end_time": "2025-02-01T12:07:59.774197Z",
     "start_time": "2025-02-01T12:07:59.764095Z"
    }
   },
   "outputs": [
    {
     "name": "stdout",
     "output_type": "stream",
     "text": [
      "9\n",
      "[3 6 9]\n"
     ]
    }
   ],
   "source": [
    "arr = np.array([[1,2,3],[4,5,6],[7,8,9]])\n",
    "print(arr[2,2]) ##indexing\n",
    "\n",
    "print(arr[:,2])  #slicing"
   ]
  },
  {
   "cell_type": "markdown",
   "id": "c2532b41e21fe67d",
   "metadata": {},
   "source": [
    "## MATHEMATICAL OPERATIONS\n",
    "* NumPy makes element-wise operations super easy!\n"
   ]
  },
  {
   "cell_type": "code",
   "execution_count": 8,
   "id": "812033e4de1bb876",
   "metadata": {
    "ExecuteTime": {
     "end_time": "2025-02-01T12:10:56.212171Z",
     "start_time": "2025-02-01T12:10:56.200257Z"
    }
   },
   "outputs": [
    {
     "name": "stdout",
     "output_type": "stream",
     "text": [
      "[12 15 18]\n",
      "[ 28  80 162]\n",
      "[0.25 0.4  0.5 ]\n",
      "[1 4 9]\n"
     ]
    }
   ],
   "source": [
    "arr_a = np.array([1,2,3])\n",
    "arr_b = np.array([4,5,6])\n",
    "arr_c = np.array([7,8,9])\n",
    "\n",
    "print(arr_a+arr_b+arr_c)\n",
    "print(arr_a * arr_b * arr_c)\n",
    "print(arr_a / arr_b)\n",
    "print(arr_a ** 2)\n"
   ]
  },
  {
   "cell_type": "markdown",
   "id": "496b2f7f4845b9ae",
   "metadata": {},
   "source": [
    "# Aggregations & Statistics\n"
   ]
  },
  {
   "cell_type": "code",
   "execution_count": 9,
   "id": "da98ec86196f93c5",
   "metadata": {
    "ExecuteTime": {
     "end_time": "2025-02-01T12:14:25.587703Z",
     "start_time": "2025-02-01T12:14:25.582893Z"
    }
   },
   "outputs": [
    {
     "name": "stdout",
     "output_type": "stream",
     "text": [
      "5.0\n",
      "5.0\n",
      "2.581988897471611\n",
      "6.666666666666667\n",
      "1\n",
      "9\n",
      "45\n"
     ]
    }
   ],
   "source": [
    "arr = np.array([1,2,3,4,5,6,7,8,9])\n",
    "\n",
    "print(np.mean(arr))\n",
    "print(np.median(arr))\n",
    "print(np.std(arr))\n",
    "print(np.var(arr))\n",
    "print(np.min(arr))\n",
    "print(np.max(arr))\n",
    "print(np.sum(arr, axis=0)) # Sum along columns: [5 7 9]\n",
    "\n"
   ]
  },
  {
   "cell_type": "code",
   "execution_count": 10,
   "id": "215a7a6da204748c",
   "metadata": {
    "ExecuteTime": {
     "end_time": "2025-02-01T12:16:58.784372Z",
     "start_time": "2025-02-01T12:16:58.780421Z"
    }
   },
   "outputs": [
    {
     "name": "stdout",
     "output_type": "stream",
     "text": [
      "[[1 2 3]\n",
      " [4 5 6]]\n",
      "[1 2 3 4 5 6]\n"
     ]
    }
   ],
   "source": [
    "arr = np.array([1, 2, 3, 4, 5, 6])\n",
    "new_arr = arr.reshape(2, 3)  # Reshape to 2x3 matrix\n",
    "\n",
    "print(new_arr)\n",
    "\n",
    "\n",
    "print(arr.T)  # Flip rows and columns"
   ]
  },
  {
   "cell_type": "code",
   "execution_count": 11,
   "id": "54aecea200638500",
   "metadata": {
    "ExecuteTime": {
     "end_time": "2025-02-01T12:17:12.017385Z",
     "start_time": "2025-02-01T12:17:12.005279Z"
    }
   },
   "outputs": [
    {
     "name": "stdout",
     "output_type": "stream",
     "text": [
      "[[1 2]\n",
      " [3 4]\n",
      " [5 6]\n",
      " [7 8]]\n",
      "[[1 2 5 6]\n",
      " [3 4 7 8]]\n"
     ]
    }
   ],
   "source": [
    "a = np.array([[1, 2], [3, 4]])\n",
    "b = np.array([[5, 6], [7, 8]])\n",
    "\n",
    "# Vertical stacking\n",
    "print(np.vstack((a, b)))\n",
    "\n",
    "# Horizontal stacking\n",
    "print(np.hstack((a, b)))"
   ]
  }
 ],
 "metadata": {
  "kernelspec": {
   "display_name": "base",
   "language": "python",
   "name": "python3"
  },
  "language_info": {
   "codemirror_mode": {
    "name": "ipython",
    "version": 3
   },
   "file_extension": ".py",
   "mimetype": "text/x-python",
   "name": "python",
   "nbconvert_exporter": "python",
   "pygments_lexer": "ipython3",
   "version": "3.12.7"
  }
 },
 "nbformat": 5,
 "nbformat_minor": 9
}
