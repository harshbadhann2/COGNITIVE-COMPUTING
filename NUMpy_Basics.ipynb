{
 "cells": [
  {
   "metadata": {
    "ExecuteTime": {
     "end_time": "2025-02-05T06:02:15.853107Z",
     "start_time": "2025-02-05T06:02:15.851006Z"
    }
   },
   "cell_type": "code",
   "source": "import numpy as np\n",
   "id": "a795b19d7f540e0a",
   "outputs": [],
   "execution_count": 2
  },
  {
   "metadata": {
    "ExecuteTime": {
     "end_time": "2025-02-05T06:02:23.728166Z",
     "start_time": "2025-02-05T06:02:23.722899Z"
    }
   },
   "cell_type": "code",
   "source": [
    "myarr = np.array([[3,6,9,12,15]])\n",
    "print(myarr)"
   ],
   "id": "bfecd537f5e5a5fe",
   "outputs": [
    {
     "name": "stdout",
     "output_type": "stream",
     "text": [
      "[[ 3  6  9 12 15]]\n"
     ]
    }
   ],
   "execution_count": 3
  },
  {
   "metadata": {
    "ExecuteTime": {
     "end_time": "2025-02-05T06:02:28.956836Z",
     "start_time": "2025-02-05T06:02:28.946168Z"
    }
   },
   "cell_type": "code",
   "source": [
    "myarr = np.array([[3,6,9,12,15]])  # 2D array (1 row, 5 columns)\n",
    "# print(myarr.shape)  # Output: (1, 5)\n",
    "\n",
    "print(myarr[0,1])  # ✅ Correct indexing\n",
    "print(myarr.shape)"
   ],
   "id": "97443308823a17f1",
   "outputs": [
    {
     "name": "stdout",
     "output_type": "stream",
     "text": [
      "6\n",
      "(1, 5)\n"
     ]
    }
   ],
   "execution_count": 4
  },
  {
   "metadata": {
    "ExecuteTime": {
     "end_time": "2025-02-05T06:02:42.602477Z",
     "start_time": "2025-02-05T06:02:42.596572Z"
    }
   },
   "cell_type": "code",
   "source": [
    "print(myarr.shape)\n",
    "print(myarr.dtype)"
   ],
   "id": "1069956d9b289f80",
   "outputs": [
    {
     "name": "stdout",
     "output_type": "stream",
     "text": [
      "(1, 5)\n",
      "int64\n"
     ]
    }
   ],
   "execution_count": 5
  },
  {
   "metadata": {
    "ExecuteTime": {
     "end_time": "2025-02-05T06:03:01.149935Z",
     "start_time": "2025-02-05T06:03:01.143342Z"
    }
   },
   "cell_type": "code",
   "source": [
    "identity = np.eye(9)  #special numpy function to print the identity matrix\n",
    "print(identity)"
   ],
   "id": "428d137d8d83657a",
   "outputs": [
    {
     "name": "stdout",
     "output_type": "stream",
     "text": [
      "[[1. 0. 0. 0. 0. 0. 0. 0. 0.]\n",
      " [0. 1. 0. 0. 0. 0. 0. 0. 0.]\n",
      " [0. 0. 1. 0. 0. 0. 0. 0. 0.]\n",
      " [0. 0. 0. 1. 0. 0. 0. 0. 0.]\n",
      " [0. 0. 0. 0. 1. 0. 0. 0. 0.]\n",
      " [0. 0. 0. 0. 0. 1. 0. 0. 0.]\n",
      " [0. 0. 0. 0. 0. 0. 1. 0. 0.]\n",
      " [0. 0. 0. 0. 0. 0. 0. 1. 0.]\n",
      " [0. 0. 0. 0. 0. 0. 0. 0. 1.]]\n"
     ]
    }
   ],
   "execution_count": 6
  },
  {
   "metadata": {},
   "cell_type": "markdown",
   "source": "## Indexing & Slicing\n",
   "id": "835157c59b124b22"
  },
  {
   "metadata": {
    "ExecuteTime": {
     "end_time": "2025-02-05T06:03:10.396473Z",
     "start_time": "2025-02-05T06:03:10.388223Z"
    }
   },
   "cell_type": "code",
   "source": [
    "arr = np.array([[1,2,3],[4,5,6],[7,8,9]])\n",
    "print(arr[2,2]) ##indexing\n",
    "\n",
    "print(arr[:,2])  #slicing"
   ],
   "id": "b2c2585740eb7092",
   "outputs": [
    {
     "name": "stdout",
     "output_type": "stream",
     "text": [
      "9\n",
      "[3 6 9]\n"
     ]
    }
   ],
   "execution_count": 7
  },
  {
   "metadata": {},
   "cell_type": "markdown",
   "source": [
    "## MATHEMATICAL OPERATIONS\n",
    "* NumPy makes element-wise operations super easy!\n"
   ],
   "id": "c15f5cab55c14afe"
  },
  {
   "metadata": {
    "ExecuteTime": {
     "end_time": "2025-02-05T06:03:18.039086Z",
     "start_time": "2025-02-05T06:03:18.029403Z"
    }
   },
   "cell_type": "code",
   "source": [
    "arr_a = np.array([1,2,3])\n",
    "arr_b = np.array([4,5,6])\n",
    "arr_c = np.array([7,8,9])\n",
    "\n",
    "print(arr_a+arr_b+arr_c)\n",
    "print(arr_a * arr_b * arr_c)\n",
    "print(arr_a / arr_b)\n",
    "print(arr_a ** 2)\n"
   ],
   "id": "14502070bcec45e6",
   "outputs": [
    {
     "name": "stdout",
     "output_type": "stream",
     "text": [
      "[12 15 18]\n",
      "[ 28  80 162]\n",
      "[0.25 0.4  0.5 ]\n",
      "[1 4 9]\n"
     ]
    }
   ],
   "execution_count": 8
  },
  {
   "metadata": {},
   "cell_type": "markdown",
   "source": [
    "# Aggregations & Statistics\n",
    "\n"
   ],
   "id": "7e2972572f3a00c8"
  },
  {
   "metadata": {
    "ExecuteTime": {
     "end_time": "2025-02-05T06:03:26.300113Z",
     "start_time": "2025-02-05T06:03:26.288080Z"
    }
   },
   "cell_type": "code",
   "source": [
    "arr = np.array([1,2,3,4,5,6,7,8,9])\n",
    "\n",
    "print(np.mean(arr))\n",
    "print(np.median(arr))\n",
    "print(np.std(arr))\n",
    "print(np.var(arr))\n",
    "print(np.min(arr))\n",
    "print(np.max(arr))\n",
    "print(np.sum(arr, axis=0)) # Sum along columns: [5 7 9]\n",
    "\n"
   ],
   "id": "4d3627f26637e8f6",
   "outputs": [
    {
     "name": "stdout",
     "output_type": "stream",
     "text": [
      "5.0\n",
      "5.0\n",
      "2.581988897471611\n",
      "6.666666666666667\n",
      "1\n",
      "9\n",
      "45\n"
     ]
    }
   ],
   "execution_count": 9
  },
  {
   "metadata": {
    "ExecuteTime": {
     "end_time": "2025-02-05T06:03:33.496366Z",
     "start_time": "2025-02-05T06:03:33.487142Z"
    }
   },
   "cell_type": "code",
   "source": [
    "arr = np.array([1, 2, 3, 4, 5, 6])\n",
    "new_arr = arr.reshape(2, 3)  # Reshape to 2x3 matrix\n",
    "\n",
    "print(new_arr)\n",
    "\n",
    "\n",
    "print(arr.T)  # Flip rows and columns"
   ],
   "id": "dc4668712f61d45a",
   "outputs": [
    {
     "name": "stdout",
     "output_type": "stream",
     "text": [
      "[[1 2 3]\n",
      " [4 5 6]]\n",
      "[1 2 3 4 5 6]\n"
     ]
    }
   ],
   "execution_count": 10
  },
  {
   "metadata": {
    "ExecuteTime": {
     "end_time": "2025-02-05T06:03:41.113103Z",
     "start_time": "2025-02-05T06:03:41.103189Z"
    }
   },
   "cell_type": "code",
   "source": [
    "a = np.array([[1, 2], [3, 4]])\n",
    "b = np.array([[5, 6], [7, 8]])\n",
    "\n",
    "# Vertical stacking\n",
    "print(np.vstack((a, b)))\n",
    "\n",
    "# Horizontal stacking\n",
    "print(np.hstack((a, b)))"
   ],
   "id": "b4586825c8348fbf",
   "outputs": [
    {
     "name": "stdout",
     "output_type": "stream",
     "text": [
      "[[1 2]\n",
      " [3 4]\n",
      " [5 6]\n",
      " [7 8]]\n",
      "[[1 2 5 6]\n",
      " [3 4 7 8]]\n"
     ]
    }
   ],
   "execution_count": 11
  },
  {
   "metadata": {},
   "cell_type": "code",
   "outputs": [],
   "execution_count": null,
   "source": "",
   "id": "14522f159de37044"
  }
 ],
 "metadata": {
  "kernelspec": {
   "name": "python3",
   "language": "python",
   "display_name": "Python 3 (ipykernel)"
  }
 },
 "nbformat": 5,
 "nbformat_minor": 9
}
