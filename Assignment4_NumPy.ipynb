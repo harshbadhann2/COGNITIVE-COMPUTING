{
 "cells": [
  {
   "metadata": {},
   "cell_type": "markdown",
   "source": [
    "# Q.1 Write a program to create a NumPy 1D-array with 5 elements and perform basic operations like:\n",
    "a) b) c) Addition of 2 in all the element\n",
    "Multiply 3 with all the elements\n",
    "Divide every element by 2"
   ],
   "id": "867a7e484628bea0"
  },
  {
   "metadata": {
    "ExecuteTime": {
     "end_time": "2025-02-01T13:18:50.282832Z",
     "start_time": "2025-02-01T13:18:50.195678Z"
    }
   },
   "cell_type": "code",
   "source": [
    "import numpy as np\n",
    "\n",
    "arr = np.array([1,2,3,4,5])\n",
    "\n",
    "print(arr+ 2) #addition of 2\n",
    "\n",
    "print(arr *3) #multiplication by 3\n",
    "\n",
    "print(arr / 2) # division by 2"
   ],
   "id": "d8aa1e1148165235",
   "outputs": [
    {
     "name": "stdout",
     "output_type": "stream",
     "text": [
      "[3 4 5 6 7]\n",
      "[ 3  6  9 12 15]\n",
      "[0.5 1.  1.5 2.  2.5]\n"
     ]
    }
   ],
   "execution_count": 1
  },
  {
   "metadata": {},
   "cell_type": "markdown",
   "source": [
    "# Q.2 Questions on Basic NumPy Array:\n",
    "* a)  Reverse the NumPy array: arr = np.array([1, 2, 3, 6, 4, 5])\n",
    "* b)  Find the most frequent value and their indice(s) in the following arrays:\n",
    "i. x = np.array([1,2,3,4,5,1,2,1,1,1])\n",
    "ii. y = np.array([1, 1, 1, 2, 3, 4, 2, 4, 3, 3, ])"
   ],
   "id": "e33a1b55d533f01"
  },
  {
   "metadata": {
    "ExecuteTime": {
     "end_time": "2025-02-01T13:53:42.597150Z",
     "start_time": "2025-02-01T13:53:42.584485Z"
    }
   },
   "cell_type": "code",
   "source": [
    "import numpy as np\n",
    "\n",
    "arr = np.array([1, 2, 3, 6, 4, 5])\n",
    "print(np.flip(arr))"
   ],
   "id": "bb2b6699041ac9e6",
   "outputs": [
    {
     "name": "stdout",
     "output_type": "stream",
     "text": [
      "[5 4 6 3 2 1]\n"
     ]
    }
   ],
   "execution_count": 6
  },
  {
   "metadata": {
    "ExecuteTime": {
     "end_time": "2025-02-01T15:09:15.229968Z",
     "start_time": "2025-02-01T15:09:15.195603Z"
    }
   },
   "cell_type": "code",
   "source": [
    "import numpy as np\n",
    "\n",
    "x = np.array([1, 2, 3, 4, 5, 1, 2, 1, 1, 1])\n",
    "\n",
    "most_frequent = np.bincount(x).argmax()\n",
    "indices = np.where(x == most_frequent)[0]\n",
    "\n",
    "print(\"Most Frequent Value:\", most_frequent)\n",
    "print(\"Indices:\", indices)"
   ],
   "id": "e1c6f377821029e8",
   "outputs": [
    {
     "name": "stdout",
     "output_type": "stream",
     "text": [
      "Most Frequent Value: 1\n",
      "Indices: [0 5 7 8 9]\n"
     ]
    }
   ],
   "execution_count": 16
  },
  {
   "metadata": {
    "ExecuteTime": {
     "end_time": "2025-02-01T14:24:02.763740Z",
     "start_time": "2025-02-01T14:24:02.733555Z"
    }
   },
   "cell_type": "code",
   "source": [
    "y = np.array([1, 1, 1, 2, 3, 4, 2, 4, 3, 3, ])\n",
    "\n",
    "most_frequent_value = np.bincount(y).argmax()\n",
    "indices = np.where(y == most_frequent_value)[0]\n",
    "\n",
    "print(\"Most Frequent Value:\", most_frequent_value)\n",
    "print(\"Indices:\", indices)\n",
    "\n"
   ],
   "id": "75f94548b01e27dd",
   "outputs": [
    {
     "name": "stdout",
     "output_type": "stream",
     "text": [
      "Most Frequent Value: 1\n",
      "Indices: [0 1 2]\n"
     ]
    }
   ],
   "execution_count": 15
  },
  {
   "metadata": {},
   "cell_type": "markdown",
   "source": [
    "# Q.3 For the given 2-D array arr=np.array([10, 20, 30], [40, 50, 60], [70, 80, 90]), access elements using row and column indices as follows:\n",
    "* a) Access 1st row, 2nd column\n",
    "* b) Access 3rd row, 1st column"
   ],
   "id": "f074a49e4ff84786"
  },
  {
   "metadata": {
    "ExecuteTime": {
     "end_time": "2025-02-01T15:10:26.883806Z",
     "start_time": "2025-02-01T15:10:26.868504Z"
    }
   },
   "cell_type": "code",
   "source": [
    "arr = np.array([[10, 20, 30], [40, 50, 60], [70, 80, 90]])\n",
    "\n",
    "print(arr[0][1])\n",
    "# printing 1st row, 2nd column\n",
    "\n",
    "\n",
    "print(arr[2][0]) # printing 3rd row, 1st column\n"
   ],
   "id": "5c721588a1fc6527",
   "outputs": [
    {
     "name": "stdout",
     "output_type": "stream",
     "text": [
      "20\n",
      "70\n"
     ]
    }
   ],
   "execution_count": 17
  },
  {
   "metadata": {},
   "cell_type": "markdown",
   "source": "# Q.4 Write program to create an 1-D NumPy array named <<Your Name>> with evenly spaced 25 numbers from 10 to 100 using linspace(). Print the dimensions of the array, shape, total elements, the data type of each element and total number of bytes consumed by the array. Find the transpose of this array using reshape() attribute. Can we do the same with T attribute?",
   "id": "e042b1fdfc6a6d4"
  },
  {
   "cell_type": "code",
   "id": "initial_id",
   "metadata": {
    "collapsed": true,
    "ExecuteTime": {
     "end_time": "2025-02-01T15:10:56.525131Z",
     "start_time": "2025-02-01T15:10:56.480854Z"
    }
   },
   "source": [
    "# Q.4 Write program to create an 1-D NumPy array named <<Your Name>> with evenly\n",
    "# spaced 25 numbers from 10 to 100 using linspace(). Print the dimensions of the array,\n",
    "# shape, total elements, the data type of each element and total number of bytes consumed\n",
    "# by the array. Find the transpose of this array using reshape() attribute. Can we do the same\n",
    "# with T attribute?\\\n",
    "\n",
    "import numpy as np\n",
    "\n",
    "badhann = np.linspace(start=10, stop=100, num=25)\n",
    "\n",
    "print(badhann)\n",
    "\n",
    "print(np.shape(badhann))\n",
    "\n",
    "print(np.size(badhann))\n",
    "\n",
    "print(badhann.dtype)\n",
    "\n",
    "print(badhann.nbytes)\n",
    "\n",
    "print(badhann.reshape((25,1)))\n",
    "\n",
    "transposed = badhann.T\n",
    "display(badhann.T)\n",
    "\n",
    "\n",
    "\n"
   ],
   "outputs": [
    {
     "name": "stdout",
     "output_type": "stream",
     "text": [
      "[ 10.    13.75  17.5   21.25  25.    28.75  32.5   36.25  40.    43.75\n",
      "  47.5   51.25  55.    58.75  62.5   66.25  70.    73.75  77.5   81.25\n",
      "  85.    88.75  92.5   96.25 100.  ]\n",
      "(25,)\n",
      "25\n",
      "float64\n",
      "200\n",
      "[[ 10.  ]\n",
      " [ 13.75]\n",
      " [ 17.5 ]\n",
      " [ 21.25]\n",
      " [ 25.  ]\n",
      " [ 28.75]\n",
      " [ 32.5 ]\n",
      " [ 36.25]\n",
      " [ 40.  ]\n",
      " [ 43.75]\n",
      " [ 47.5 ]\n",
      " [ 51.25]\n",
      " [ 55.  ]\n",
      " [ 58.75]\n",
      " [ 62.5 ]\n",
      " [ 66.25]\n",
      " [ 70.  ]\n",
      " [ 73.75]\n",
      " [ 77.5 ]\n",
      " [ 81.25]\n",
      " [ 85.  ]\n",
      " [ 88.75]\n",
      " [ 92.5 ]\n",
      " [ 96.25]\n",
      " [100.  ]]\n"
     ]
    },
    {
     "data": {
      "text/plain": [
       "array([ 10.  ,  13.75,  17.5 ,  21.25,  25.  ,  28.75,  32.5 ,  36.25,\n",
       "        40.  ,  43.75,  47.5 ,  51.25,  55.  ,  58.75,  62.5 ,  66.25,\n",
       "        70.  ,  73.75,  77.5 ,  81.25,  85.  ,  88.75,  92.5 ,  96.25,\n",
       "       100.  ])"
      ]
     },
     "metadata": {},
     "output_type": "display_data"
    }
   ],
   "execution_count": 18
  },
  {
   "metadata": {},
   "cell_type": "markdown",
   "source": "# Q5. Create a 2-D Array of three rows and four columns, named ucs420_<your_name>> with following values – 10, 20, 30, 40, 50, 60, 70, 80, 90, 15, 20, 35. Compute the mean, median, max, min, unique elements. Reshape the array to four rows and three columns and name it as reshaped_ ucs420_<your_name>>. Resize the array to two rows and three columns and name it as resized_ ucs420_<your_name>>.",
   "id": "a301c7bfc472ec25"
  },
  {
   "metadata": {
    "ExecuteTime": {
     "end_time": "2025-02-01T15:14:54.156342Z",
     "start_time": "2025-02-01T15:14:54.145542Z"
    }
   },
   "cell_type": "code",
   "source": [
    "import numpy as np\n",
    "ucs420_ = np.array([[10, 20, 30, 40], [50, 60, 70, 80], [90, 15, 20, 35]])\n",
    "\n",
    "print(ucs420_.mean()) #mean\n",
    "# finding median\n",
    "print(np.median(ucs420_))\n",
    "print(ucs420_.max())# max\n",
    "print(ucs420_.min()) # min\n",
    "print(np.unique(ucs420_)) #unique\n"
   ],
   "id": "db882cc167e7907a",
   "outputs": [
    {
     "name": "stdout",
     "output_type": "stream",
     "text": [
      "43.333333333333336\n",
      "37.5\n",
      "90\n",
      "10\n",
      "[10 15 20 30 35 40 50 60 70 80 90]\n"
     ]
    }
   ],
   "execution_count": 24
  },
  {
   "metadata": {
    "ExecuteTime": {
     "end_time": "2025-02-01T15:23:33.335199Z",
     "start_time": "2025-02-01T15:23:33.329780Z"
    }
   },
   "cell_type": "code",
   "source": [
    "import numpy as np\n",
    "reshaped_ucs420_ = ucs420_.reshape((4,3))\n",
    "print('Reshaped: ',reshaped_ucs420_)\n",
    "\n",
    "resized_ucs420_ = np.resize(ucs420_,(2,3))\n",
    "print('Resized: ',resized_ucs420_)"
   ],
   "id": "5dbe49a2d680ab1a",
   "outputs": [
    {
     "name": "stdout",
     "output_type": "stream",
     "text": [
      "Reshaped:  [[10 20 30]\n",
      " [40 50 60]\n",
      " [70 80 90]\n",
      " [15 20 35]]\n",
      "Resized:  [[10 20 30]\n",
      " [40 50 60]]\n"
     ]
    }
   ],
   "execution_count": 33
  }
 ],
 "metadata": {
  "kernelspec": {
   "display_name": "Python 3",
   "language": "python",
   "name": "python3"
  },
  "language_info": {
   "codemirror_mode": {
    "name": "ipython",
    "version": 2
   },
   "file_extension": ".py",
   "mimetype": "text/x-python",
   "name": "python",
   "nbconvert_exporter": "python",
   "pygments_lexer": "ipython2",
   "version": "2.7.6"
  }
 },
 "nbformat": 4,
 "nbformat_minor": 5
}
