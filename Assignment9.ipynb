{
  "nbformat": 4,
  "nbformat_minor": 0,
  "metadata": {
    "colab": {
      "provenance": []
    },
    "kernelspec": {
      "name": "python3",
      "display_name": "Python 3"
    },
    "language_info": {
      "name": "python"
    }
  },
  "cells": [
    {
      "cell_type": "markdown",
      "source": [
        "\n",
        "# HARSH BADHAN\n",
        "COGNITIVE COMPUTING ASSIGNMENT 9\n",
        "\n"
      ],
      "metadata": {
        "id": "CusXOzW4Sfec"
      }
    },
    {
      "cell_type": "code",
      "source": [
        "import nltk\n",
        "import string\n",
        "from nltk.corpus import stopwords,wordnet\n",
        "from nltk.stem import PorterStemmer, LancasterStemmer, WordNetLemmatizer\n",
        "from nltk.tokenize import word_tokenize,sent_tokenize\n",
        "from nltk.probability import FreqDist\n",
        "import matplotlib.pyplot as plt\n",
        "import nltk\n",
        "import re\n",
        "nltk.download('punkt_tab')\n",
        "nltk.download('punkt')\n",
        "nltk.download('stopwords')\n",
        "nltk.download('wordnet')\n",
        "nltk.download('omw-1.4')"
      ],
      "metadata": {
        "colab": {
          "base_uri": "https://localhost:8080/"
        },
        "id": "amxpGHh7Sc2v",
        "outputId": "1b4e47bb-2660-41cc-8294-dfd975a56b2e"
      },
      "execution_count": 1,
      "outputs": [
        {
          "output_type": "stream",
          "name": "stderr",
          "text": [
            "[nltk_data] Downloading package punkt_tab to /root/nltk_data...\n",
            "[nltk_data]   Unzipping tokenizers/punkt_tab.zip.\n",
            "[nltk_data] Downloading package punkt to /root/nltk_data...\n",
            "[nltk_data]   Unzipping tokenizers/punkt.zip.\n",
            "[nltk_data] Downloading package stopwords to /root/nltk_data...\n",
            "[nltk_data]   Unzipping corpora/stopwords.zip.\n",
            "[nltk_data] Downloading package wordnet to /root/nltk_data...\n",
            "[nltk_data] Downloading package omw-1.4 to /root/nltk_data...\n"
          ]
        },
        {
          "output_type": "execute_result",
          "data": {
            "text/plain": [
              "True"
            ]
          },
          "metadata": {},
          "execution_count": 1
        }
      ]
    },
    {
      "cell_type": "code",
      "source": [
        "import string\n",
        "paragraph = \"\"\" My favourite topic is Tech. I watch alot of tech videos on Youtube or browse much more on internet. Tech bar is my favourite Tech Youtuber, I'm following since class ninth. The way of his presenting the content and their editing appeals to me. I wish one day I might make same contribution to their content\"\"\""
      ],
      "metadata": {
        "id": "C0xSkk6-Sez_"
      },
      "execution_count": 2,
      "outputs": []
    },
    {
      "cell_type": "code",
      "execution_count": 3,
      "metadata": {
        "colab": {
          "base_uri": "https://localhost:8080/",
          "height": 53
        },
        "id": "9IIi7lpaSbaF",
        "outputId": "ff9eba93-094b-413d-93ff-5868db58165c"
      },
      "outputs": [
        {
          "output_type": "execute_result",
          "data": {
            "text/plain": [
              "' my favourite topic is tech i watch alot of tech videos on youtube or browse much more on internet tech bar is my favourite tech youtuber im following since class ninth the way of his presenting the content and their editing appeals to me i wish one day i might make same contribution to their content'"
            ],
            "application/vnd.google.colaboratory.intrinsic+json": {
              "type": "string"
            }
          },
          "metadata": {},
          "execution_count": 3
        }
      ],
      "source": [
        "lowerpunc = paragraph.lower().translate(str.maketrans('', '', string.punctuation))\n",
        "lowerpunc"
      ]
    },
    {
      "cell_type": "code",
      "source": [
        "sentences = sent_tokenize(lowerpunc)\n",
        "words = word_tokenize(lowerpunc)\n",
        "\n",
        "print(\"Tokenized Sentences:\\n\", sentences)\n",
        "print(\"\\nTokenized Words:\\n\", words)\n",
        "\n",
        "stwords = set(stopwords.words('english'))\n",
        "filtered_words = [word for word in words if word not in stwords]\n",
        "\n",
        "print(\"\\nFiltered Words (Stopwords Removed):\\n\", filtered_words)\n",
        ""
      ],
      "metadata": {
        "colab": {
          "base_uri": "https://localhost:8080/"
        },
        "id": "X9wQ6ky_Sux5",
        "outputId": "188f68e6-0a72-4f67-834a-cd939f34ba40"
      },
      "execution_count": 6,
      "outputs": [
        {
          "output_type": "stream",
          "name": "stdout",
          "text": [
            "Tokenized Sentences:\n",
            " [' my favourite topic is tech i watch alot of tech videos on youtube or browse much more on internet tech bar is my favourite tech youtuber im following since class ninth the way of his presenting the content and their editing appeals to me i wish one day i might make same contribution to their content']\n",
            "\n",
            "Tokenized Words:\n",
            " ['my', 'favourite', 'topic', 'is', 'tech', 'i', 'watch', 'alot', 'of', 'tech', 'videos', 'on', 'youtube', 'or', 'browse', 'much', 'more', 'on', 'internet', 'tech', 'bar', 'is', 'my', 'favourite', 'tech', 'youtuber', 'im', 'following', 'since', 'class', 'ninth', 'the', 'way', 'of', 'his', 'presenting', 'the', 'content', 'and', 'their', 'editing', 'appeals', 'to', 'me', 'i', 'wish', 'one', 'day', 'i', 'might', 'make', 'same', 'contribution', 'to', 'their', 'content']\n",
            "\n",
            "Filtered Words (Stopwords Removed):\n",
            " ['favourite', 'topic', 'tech', 'watch', 'alot', 'tech', 'videos', 'youtube', 'browse', 'much', 'internet', 'tech', 'bar', 'favourite', 'tech', 'youtuber', 'im', 'following', 'since', 'class', 'ninth', 'way', 'presenting', 'content', 'editing', 'appeals', 'wish', 'one', 'day', 'might', 'make', 'contribution', 'content']\n"
          ]
        }
      ]
    },
    {
      "cell_type": "code",
      "source": [
        "fdist = FreqDist(filtered_words)\n",
        "print(\"\\nTop 10 Most Common Words:\")\n",
        "for word, freq in fdist.most_common(10):\n",
        "    print(f\"{word}: {freq}\")"
      ],
      "metadata": {
        "colab": {
          "base_uri": "https://localhost:8080/"
        },
        "id": "3rTcQDD-Sw2W",
        "outputId": "ec7e45e7-c6fe-4a35-8d39-e39bcc950d59"
      },
      "execution_count": 7,
      "outputs": [
        {
          "output_type": "stream",
          "name": "stdout",
          "text": [
            "\n",
            "Top 10 Most Common Words:\n",
            "tech: 4\n",
            "favourite: 2\n",
            "content: 2\n",
            "topic: 1\n",
            "watch: 1\n",
            "alot: 1\n",
            "videos: 1\n",
            "youtube: 1\n",
            "browse: 1\n",
            "much: 1\n"
          ]
        }
      ]
    },
    {
      "cell_type": "code",
      "source": [
        "fdist.plot(10, title=\"Top 10 Word Frequencies (Excluding Stopwords)\")\n"
      ],
      "metadata": {
        "colab": {
          "base_uri": "https://localhost:8080/",
          "height": 538
        },
        "id": "fy180j_ITCih",
        "outputId": "7bb138e7-8434-4e2d-95b9-c565f36aee04"
      },
      "execution_count": 8,
      "outputs": [
        {
          "output_type": "execute_result",
          "data": {
            "text/plain": [
              "<Axes: title={'center': 'Top 10 Word Frequencies (Excluding Stopwords)'}, xlabel='Samples', ylabel='Counts'>"
            ]
          },
          "metadata": {},
          "execution_count": 8
        },
        {
          "output_type": "display_data",
          "data": {
            "text/plain": [
              "<Figure size 640x480 with 1 Axes>"
            ],
            "image/png": "[encoded data removed]"
          },
          "metadata": {}
        }
      ]
    },
    {
      "cell_type": "code",
      "source": [
        "text = paragraph.lower().translate(str.maketrans('', '', string.punctuation))\n",
        "words = word_tokenize(text)\n",
        "filtered_words = [word for word in words if word not in stopwords.words('english')]\n",
        "\n",
        "\n",
        "\n",
        "porter = PorterStemmer()\n",
        "lancaster = LancasterStemmer()\n",
        "lemmatizer = WordNetLemmatizer()"
      ],
      "metadata": {
        "id": "F5jD4XsGTEdk"
      },
      "execution_count": 9,
      "outputs": []
    },
    {
      "cell_type": "code",
      "source": [
        "words5 = re.findall(r'\\b[a-zA-Z]{6,}\\b', paragraph)\n",
        "print(\"Words with more than 5 letters:\\n\", words5)"
      ],
      "metadata": {
        "colab": {
          "base_uri": "https://localhost:8080/"
        },
        "id": "14Ss6xVqTF1L",
        "outputId": "b5352419-3d4a-4860-fb47-1c462ad8d65e"
      },
      "execution_count": 10,
      "outputs": [
        {
          "output_type": "stream",
          "name": "stdout",
          "text": [
            "Words with more than 5 letters:\n",
            " ['favourite', 'videos', 'Youtube', 'browse', 'internet', 'favourite', 'Youtuber', 'following', 'presenting', 'content', 'editing', 'appeals', 'contribution', 'content']\n"
          ]
        }
      ]
    },
    {
      "cell_type": "code",
      "source": [
        "numbers = re.findall(r'\\b\\d+\\b', paragraph)\n",
        "print(\"\\nNumbers in text:\\n\", numbers if numbers else \"No numbers found.\")\n"
      ],
      "metadata": {
        "colab": {
          "base_uri": "https://localhost:8080/"
        },
        "id": "TXeWTUD2THk9",
        "outputId": "718a79f0-006b-4578-a691-c41310f446de"
      },
      "execution_count": 11,
      "outputs": [
        {
          "output_type": "stream",
          "name": "stdout",
          "text": [
            "\n",
            "Numbers in text:\n",
            " No numbers found.\n"
          ]
        }
      ]
    },
    {
      "cell_type": "code",
      "source": [
        "capitalized_words = re.findall(r'\\b[A-Z][a-z]*\\b', paragraph)\n",
        "print(\"\\nCapitalized words:\\n\", capitalized_words)"
      ],
      "metadata": {
        "colab": {
          "base_uri": "https://localhost:8080/"
        },
        "id": "PibodUzBTJL2",
        "outputId": "ab769fdc-1380-4aab-9672-0106ced236f6"
      },
      "execution_count": 12,
      "outputs": [
        {
          "output_type": "stream",
          "name": "stdout",
          "text": [
            "\n",
            "Capitalized words:\n",
            " ['My', 'Tech', 'I', 'Youtube', 'Tech', 'Tech', 'Youtuber', 'I', 'The', 'I', 'I']\n"
          ]
        }
      ]
    },
    {
      "cell_type": "code",
      "source": [
        "alphabetic_words = re.findall(r'\\b[a-zA-Z]+\\b', paragraph)\n",
        "print(\"\\nAlphabetic words:\\n\", alphabetic_words)"
      ],
      "metadata": {
        "colab": {
          "base_uri": "https://localhost:8080/"
        },
        "id": "wzNtMxVQTLA8",
        "outputId": "9e692ad2-db42-4dd7-fbc9-04f134ee5efa"
      },
      "execution_count": 13,
      "outputs": [
        {
          "output_type": "stream",
          "name": "stdout",
          "text": [
            "\n",
            "Alphabetic words:\n",
            " ['My', 'favourite', 'topic', 'is', 'Tech', 'I', 'watch', 'alot', 'of', 'tech', 'videos', 'on', 'Youtube', 'or', 'browse', 'much', 'more', 'on', 'internet', 'Tech', 'bar', 'is', 'my', 'favourite', 'Tech', 'Youtuber', 'I', 'm', 'following', 'since', 'class', 'ninth', 'The', 'way', 'of', 'his', 'presenting', 'the', 'content', 'and', 'their', 'editing', 'appeals', 'to', 'me', 'I', 'wish', 'one', 'day', 'I', 'might', 'make', 'same', 'contribution', 'to', 'their', 'content']\n"
          ]
        }
      ]
    },
    {
      "cell_type": "code",
      "source": [
        "vowel_words = re.findall(r'\\b[aeiouAEIOU][a-zA-Z]*\\b', paragraph)\n",
        "print(\"\\nWords starting with a vowel:\\n\", vowel_words)"
      ],
      "metadata": {
        "colab": {
          "base_uri": "https://localhost:8080/"
        },
        "id": "XtWoF1xuTMhv",
        "outputId": "7f29cedb-75ac-42c7-ed4f-9437970b0425"
      },
      "execution_count": 14,
      "outputs": [
        {
          "output_type": "stream",
          "name": "stdout",
          "text": [
            "\n",
            "Words starting with a vowel:\n",
            " ['is', 'I', 'alot', 'of', 'on', 'or', 'on', 'internet', 'is', 'I', 'of', 'and', 'editing', 'appeals', 'I', 'one', 'I']\n"
          ]
        }
      ]
    },
    {
      "cell_type": "code",
      "source": [
        "def customtokenizer(text):\n",
        "    pattern = r\"\"\"\n",
        "        \\b(?:\\d+\\.\\d+|\\d+)\\b                    # Decimal or integer numbers\n",
        "        | \\b\\w+(?:-\\w+)*\\b                      # Words, possibly hyphenated\n",
        "        | \\b\\w+'\\w+\\b                           # Contractions like isn't, don't\n",
        "    \"\"\"\n",
        "    tokens = re.findall(pattern, text, re.VERBOSE)\n",
        "    return tokens"
      ],
      "metadata": {
        "id": "ibbER62jTNyX"
      },
      "execution_count": 15,
      "outputs": []
    },
    {
      "cell_type": "code",
      "source": [
        "def cleantext(text):\n",
        "    text = re.sub(r'\\b[\\w\\.-]+@[\\w\\.-]+\\.\\w+\\b', '', text)\n",
        "    text = re.sub(r'https?://\\S+|www\\.\\S+', '', text)\n",
        "    text = re.sub(r'(\\+?\\d{1,3}[\\s-])?\\d{3}[-\\s]?\\d{3}[-\\s]?\\d{4}', '', text)\n",
        "    return text\n"
      ],
      "metadata": {
        "id": "TfOWNAhyTP64"
      },
      "execution_count": 16,
      "outputs": []
    },
    {
      "cell_type": "code",
      "source": [
        "cleanpara = cleantext(paragraph)\n",
        "custtokens = customtokenizer(cleanpara)\n",
        "print(\"Cleaned Text:\\n\", cleanpara)\n",
        "print(\"\\nCustom Tokens:\\n\", custtokens)\n"
      ],
      "metadata": {
        "colab": {
          "base_uri": "https://localhost:8080/"
        },
        "id": "8cEsKW-LTRdY",
        "outputId": "ffe40653-72b3-4899-8344-a44b3a4f129d"
      },
      "execution_count": 17,
      "outputs": [
        {
          "output_type": "stream",
          "name": "stdout",
          "text": [
            "Cleaned Text:\n",
            "  My favourite topic is Tech. I watch alot of tech videos on Youtube or browse much more on internet. Tech bar is my favourite Tech Youtuber, I'm following since class ninth. The way of his presenting the content and their editing appeals to me. I wish one day I might make same contribution to their content\n",
            "\n",
            "Custom Tokens:\n",
            " ['My', 'favourite', 'topic', 'is', 'Tech', 'I', 'watch', 'alot', 'of', 'tech', 'videos', 'on', 'Youtube', 'or', 'browse', 'much', 'more', 'on', 'internet', 'Tech', 'bar', 'is', 'my', 'favourite', 'Tech', 'Youtuber', 'I', 'm', 'following', 'since', 'class', 'ninth', 'The', 'way', 'of', 'his', 'presenting', 'the', 'content', 'and', 'their', 'editing', 'appeals', 'to', 'me', 'I', 'wish', 'one', 'day', 'I', 'might', 'make', 'same', 'contribution', 'to', 'their', 'content']\n"
          ]
        }
      ]
    },
    {
      "cell_type": "code",
      "source": [],
      "metadata": {
        "id": "Sc_6manoTSuu"
      },
      "execution_count": null,
      "outputs": []
    }
  ]
}