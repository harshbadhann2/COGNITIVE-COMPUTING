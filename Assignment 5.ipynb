{
  "nbformat": 4,
  "nbformat_minor": 0,
  "metadata": {
    "colab": {
      "provenance": []
    },
    "kernelspec": {
      "name": "python3",
      "display_name": "Python 3"
    },
    "language_info": {
      "name": "python"
    }
  },
  "cells": [
    {
      "cell_type": "markdown",
      "source": [
        "# ASSIGNMEENT 5 NUMPY PART 2 - BY HARSH BADHAN\n",
        "* Assigned on 6th Feb, 2025"
      ],
      "metadata": {
        "id": "c_-3Qw1Ggxj8"
      }
    },
    {
      "cell_type": "markdown",
      "source": [
        "Q.1 For the array gfg = np.matrix('[4, 1, 9; 12, 3, 1; 4, 5, 6]'), Find\n",
        "\n",
        "i. Sum of all elements\n",
        "\n",
        "ii. Sum of all elements row-wise\n",
        "\n",
        "iii. Sum of all elements column-wise"
      ],
      "metadata": {
        "id": "tleC2J_Xg10G"
      }
    },
    {
      "cell_type": "code",
      "execution_count": 1,
      "metadata": {
        "colab": {
          "base_uri": "https://localhost:8080/"
        },
        "id": "Ji1oVnECgrPQ",
        "outputId": "757f79fe-2522-4327-f923-b509c3b029b3"
      },
      "outputs": [
        {
          "output_type": "stream",
          "name": "stdout",
          "text": [
            "Sum of all the elements of 2D Array:  45\n",
            "Sum of all the elements row wise:  [[14]\n",
            " [16]\n",
            " [15]]\n",
            "Sum of all the elements Column wise:  [[20  9 16]]\n"
          ]
        }
      ],
      "source": [
        "import numpy as np\n",
        "\n",
        "gfg = np.matrix('[4, 1, 9; 12, 3, 1; 4, 5, 6]')\n",
        "sum = gfg.sum()\n",
        "print('Sum of all the elements of 2D Array: ',sum)\n",
        "\n",
        "row_wise_Sum = gfg.sum(axis=1)\n",
        "print('Sum of all the elements row wise: ',row_wise_Sum)\n",
        "\n",
        "column_wise_Sum = gfg.sum(axis=0)\n",
        "print('Sum of all the elements Column wise: ',column_wise_Sum)\n"
      ]
    },
    {
      "cell_type": "markdown",
      "source": [
        "Q.2 (a)For the array: array = np.array([10, 52, 62, 16, 16, 54, 453]), find\n",
        "\n",
        "i. Sorted array\n",
        "\n",
        "ii. Indices of sorted array\n",
        "\n",
        "iii. 4 smallest elements\n",
        "\n",
        "iv. 5 largest elements\n",
        "\n",
        "(b) For the array: array = np.array([1.0, 1.2, 2.2, 2.0, 3.0, 2.0]), find\n",
        "\n",
        "i. Integer elements only\n",
        "\n",
        "ii. Float elements only\n",
        "\n"
      ],
      "metadata": {
        "id": "whLfH7tRg9gB"
      }
    },
    {
      "cell_type": "code",
      "source": [
        "array = np.array([10, 52, 62, 16, 16, 54, 453])\n",
        "\n",
        "sorted_array = np.sort(array)\n",
        "print('Sorted array: ',sorted_array)"
      ],
      "metadata": {
        "colab": {
          "base_uri": "https://localhost:8080/"
        },
        "id": "rS-EjlRBg_aq",
        "outputId": "6baba23d-816c-481e-fffb-a661eeca712d"
      },
      "execution_count": 2,
      "outputs": [
        {
          "output_type": "stream",
          "name": "stdout",
          "text": [
            "Sorted array:  [ 10  16  16  52  54  62 453]\n"
          ]
        }
      ]
    },
    {
      "cell_type": "code",
      "source": [
        "indices = np.argsort(array)\n",
        "print(\"The indices of sorted array: \",indices)"
      ],
      "metadata": {
        "colab": {
          "base_uri": "https://localhost:8080/"
        },
        "id": "uiIUCeWZhHNp",
        "outputId": "8d05debb-4a61-4306-cdc7-f283e1b3d366"
      },
      "execution_count": 3,
      "outputs": [
        {
          "output_type": "stream",
          "name": "stdout",
          "text": [
            "The indices of sorted array:  [0 3 4 1 5 2 6]\n"
          ]
        }
      ]
    },
    {
      "cell_type": "code",
      "source": [
        "smallest_elements = np.partition(array, 4)[:4]\n",
        "print(\"4 smallest elements: \",smallest_elements)"
      ],
      "metadata": {
        "colab": {
          "base_uri": "https://localhost:8080/"
        },
        "id": "Kk3S10f2hJIg",
        "outputId": "f410d7b7-99f8-40b5-b346-0ab476f8fffe"
      },
      "execution_count": 4,
      "outputs": [
        {
          "output_type": "stream",
          "name": "stdout",
          "text": [
            "4 smallest elements:  [16 10 16 52]\n"
          ]
        }
      ]
    },
    {
      "cell_type": "code",
      "source": [
        "array = np.array([1.0, 1.2, 2.2, 2.0, 3.0, 2.0])\n",
        "largest_5 = np.sort(array)[-5:]\n",
        "print(\"Five Largest: \",largest_5)"
      ],
      "metadata": {
        "colab": {
          "base_uri": "https://localhost:8080/"
        },
        "id": "Hd-gDXZ3hLQ-",
        "outputId": "602f1e70-376f-434e-9272-94f806c3b5fb"
      },
      "execution_count": 21,
      "outputs": [
        {
          "output_type": "stream",
          "name": "stdout",
          "text": [
            "Five Largest:  [1.2 2.  2.  2.2 3. ]\n"
          ]
        }
      ]
    },
    {
      "cell_type": "code",
      "source": [
        "array = np.array([1.0, 1.2, 2.2, 2.0, 3.0, 2.0])\n",
        "\n",
        "integer_mask = array.astype(int)\n",
        "integer_elements = array[integer_mask]\n",
        "integer_elements\n"
      ],
      "metadata": {
        "colab": {
          "base_uri": "https://localhost:8080/"
        },
        "id": "3GaH2uSHhL_S",
        "outputId": "c3674c63-418f-48c5-ebe8-7e4d742292b7"
      },
      "execution_count": 6,
      "outputs": [
        {
          "output_type": "execute_result",
          "data": {
            "text/plain": [
              "array([1.2, 1.2, 2.2, 2.2, 2. , 2.2])"
            ]
          },
          "metadata": {},
          "execution_count": 6
        }
      ]
    },
    {
      "cell_type": "code",
      "source": [
        "float_mask = array != array.astype(int)\n",
        "float_elements = array[float_mask]\n",
        "float_elements\n"
      ],
      "metadata": {
        "colab": {
          "base_uri": "https://localhost:8080/"
        },
        "id": "wU9MHIFdhNZn",
        "outputId": "5ff5cdc1-d973-4dfd-ae6f-682de60ef1c9"
      },
      "execution_count": 7,
      "outputs": [
        {
          "output_type": "execute_result",
          "data": {
            "text/plain": [
              "array([1.2, 2.2])"
            ]
          },
          "metadata": {},
          "execution_count": 7
        }
      ]
    },
    {
      "cell_type": "markdown",
      "source": [
        "# Q.3 You are given a weekly sales dataset and need to perform various operations using NumPy broadcasting.\n",
        "a) Generate your unique sales dataset:\n",
        " Take the sum of the ASCII values of the initials of your first and last\n",
        "name. Call this value X. (If your initials are A B → ASCII sum = 65\n",
        "+ 66 = 131 → sales = [131, 181, 231, 281, 331].)\n",
        " Create a NumPy array sales with values [X, X+50, X+100, X+150,\n",
        "X+200].\n",
        "\n",
        "\n",
        "b) Compute your personalized tax rate as ((X % 5) + 5) / 100.\n",
        " Use broadcasting to apply this tax rate to each sales value.\n",
        "\n",
        "\n",
        "c) Adjust sales based on discount:\n",
        " If sales < X+100, apply a 5% discount.\n",
        " If sales >= X+100, apply a 10% discount.\n",
        "\n",
        "\n",
        "d) Expand sales data for multiple weeks:\n",
        " Create a 3×5 matrix representing three weeks of sales by stacking\n",
        "sales three times using broadcasting.\n",
        " Increase sales by 2% per week using element-wise broadcasting."
      ],
      "metadata": {
        "id": "eCbTzSQlipKX"
      }
    },
    {
      "cell_type": "code",
      "source": [
        "X = 78 + 66\n",
        "sales = np.array([X, X+50, X+100, X+150, X+200])\n",
        "sales\n",
        "\n"
      ],
      "metadata": {
        "colab": {
          "base_uri": "https://localhost:8080/"
        },
        "id": "plw3Q8ZOhOnL",
        "outputId": "4f3b9c94-67e1-4306-d334-8f2547d24714"
      },
      "execution_count": 8,
      "outputs": [
        {
          "output_type": "execute_result",
          "data": {
            "text/plain": [
              "array([144, 194, 244, 294, 344])"
            ]
          },
          "metadata": {},
          "execution_count": 8
        }
      ]
    },
    {
      "cell_type": "code",
      "source": [
        "tax_rate = ((X % 5) + 5) / 100\n",
        "tax_rate"
      ],
      "metadata": {
        "colab": {
          "base_uri": "https://localhost:8080/"
        },
        "id": "uHW85swLh_Vx",
        "outputId": "9b0c456a-4179-456c-a884-274ee8646c0d"
      },
      "execution_count": 10,
      "outputs": [
        {
          "output_type": "execute_result",
          "data": {
            "text/plain": [
              "0.09"
            ]
          },
          "metadata": {},
          "execution_count": 10
        }
      ]
    },
    {
      "cell_type": "code",
      "source": [
        "sales_af_tax=sales * (1 - tax_rate)\n",
        "sales_af_tax"
      ],
      "metadata": {
        "colab": {
          "base_uri": "https://localhost:8080/"
        },
        "id": "-hne5MWPiCKV",
        "outputId": "1d654ac9-ff98-488d-ce07-2feba9ba43ea"
      },
      "execution_count": 11,
      "outputs": [
        {
          "output_type": "execute_result",
          "data": {
            "text/plain": [
              "array([131.04, 176.54, 222.04, 267.54, 313.04])"
            ]
          },
          "metadata": {},
          "execution_count": 11
        }
      ]
    },
    {
      "cell_type": "code",
      "source": [
        "discount=sales < X+100\n",
        "\n",
        "sales_based_on_discount=np.where(discount, sales*0.95, sales*0.90)\n",
        "sales_based_on_discount"
      ],
      "metadata": {
        "colab": {
          "base_uri": "https://localhost:8080/"
        },
        "id": "aFfglqhsi4AO",
        "outputId": "7172d009-b6e7-413b-f4eb-cbb4c4e6bc78"
      },
      "execution_count": 12,
      "outputs": [
        {
          "output_type": "execute_result",
          "data": {
            "text/plain": [
              "array([136.8, 184.3, 219.6, 264.6, 309.6])"
            ]
          },
          "metadata": {},
          "execution_count": 12
        }
      ]
    },
    {
      "cell_type": "code",
      "source": [
        "sales_matrix = np.tile(sales, (3, 1))\n",
        "sales_matrix"
      ],
      "metadata": {
        "colab": {
          "base_uri": "https://localhost:8080/"
        },
        "id": "GsMvT096jGw1",
        "outputId": "f9f20042-621d-4e6a-9a56-ba04606d9eae"
      },
      "execution_count": 13,
      "outputs": [
        {
          "output_type": "execute_result",
          "data": {
            "text/plain": [
              "array([[144, 194, 244, 294, 344],\n",
              "       [144, 194, 244, 294, 344],\n",
              "       [144, 194, 244, 294, 344]])"
            ]
          },
          "metadata": {},
          "execution_count": 13
        }
      ]
    },
    {
      "cell_type": "code",
      "source": [
        "increase_weak=np.array([1,1.02,1.04]).reshape(-1,1)\n",
        "increase_weak"
      ],
      "metadata": {
        "colab": {
          "base_uri": "https://localhost:8080/"
        },
        "id": "ELTRAfNQjJJs",
        "outputId": "a3def5c0-cb6d-4c53-87bf-a12a674f4b5d"
      },
      "execution_count": 14,
      "outputs": [
        {
          "output_type": "execute_result",
          "data": {
            "text/plain": [
              "array([[1.  ],\n",
              "       [1.02],\n",
              "       [1.04]])"
            ]
          },
          "metadata": {},
          "execution_count": 14
        }
      ]
    },
    {
      "cell_type": "code",
      "source": [
        "final=sales_matrix*increase_weak\n",
        "final"
      ],
      "metadata": {
        "colab": {
          "base_uri": "https://localhost:8080/"
        },
        "id": "DHju9eIVjMBy",
        "outputId": "ff619c1e-325d-4c86-a141-e0ddcf23e12e"
      },
      "execution_count": 15,
      "outputs": [
        {
          "output_type": "execute_result",
          "data": {
            "text/plain": [
              "array([[144.  , 194.  , 244.  , 294.  , 344.  ],\n",
              "       [146.88, 197.88, 248.88, 299.88, 350.88],\n",
              "       [149.76, 201.76, 253.76, 305.76, 357.76]])"
            ]
          },
          "metadata": {},
          "execution_count": 15
        }
      ]
    },
    {
      "cell_type": "markdown",
      "source": [
        "# Q4. Generate x values using np.linspace() from -10 to 10 with 100 points.\n",
        "Use\n",
        "each function from the list below and compute y values using NumPy:\n",
        " Y = x2\n",
        " Y = sin(x)\n",
        " Y = ex\n",
        " Y = log(|x| + 1)\n",
        "Plot the chosen function using Matplotlib. Add title, labels, and grid for clarity."
      ],
      "metadata": {
        "id": "KCZz83enjqux"
      }
    },
    {
      "cell_type": "code",
      "source": [
        "import numpy as np\n",
        "import matplotlib.pyplot as plt\n",
        "\n",
        "x = np.linspace(-10, 10, 100)\n",
        "y1 = x**2\n",
        "y2 = np.sin(x)\n",
        "y3 = np.exp(x)\n",
        "y4 = np.log(np.abs(x) + 1)\n",
        "plt.figure(figsize=(12, 8))\n",
        "plt.subplot(2, 2, 1)\n",
        "plt.plot(x, y1)\n",
        "plt.title('Y = x²')\n",
        "plt.grid(True)"
      ],
      "metadata": {
        "colab": {
          "base_uri": "https://localhost:8080/",
          "height": 363
        },
        "id": "USN3Vl3yjUxx",
        "outputId": "005f6ad9-f2a3-40e4-c0ca-bbeeba31506a"
      },
      "execution_count": 16,
      "outputs": [
        {
          "output_type": "display_data",
          "data": {
            "text/plain": [
              "<Figure size 1200x800 with 1 Axes>"
            ],
            "image/png": "[encoded data removed]"
          },
          "metadata": {}
        }
      ]
    },
    {
      "cell_type": "code",
      "source": [
        "plt.subplot(2, 2, 2)\n",
        "plt.plot(x, y2)\n",
        "plt.title('Y = sin(x)')\n",
        "plt.grid(True)\n",
        ""
      ],
      "metadata": {
        "colab": {
          "base_uri": "https://localhost:8080/",
          "height": 251
        },
        "id": "3kp4cwBSj7Qi",
        "outputId": "597fc0f9-8ba1-48e1-ab6e-0db4d1ff52e4"
      },
      "execution_count": 17,
      "outputs": [
        {
          "output_type": "display_data",
          "data": {
            "text/plain": [
              "<Figure size 640x480 with 1 Axes>"
            ],
            "image/png": "[encoded data removed]"
          },
          "metadata": {}
        }
      ]
    },
    {
      "cell_type": "code",
      "source": [
        "plt.subplot(2, 2, 3)\n",
        "plt.plot(x, y3)\n",
        "plt.title('Y = eˣ')\n",
        "plt.grid(True)"
      ],
      "metadata": {
        "colab": {
          "base_uri": "https://localhost:8080/",
          "height": 251
        },
        "id": "pZkqdBs6j-GN",
        "outputId": "6d0508cc-6d1d-474f-b8f5-3a9e44ad3a13"
      },
      "execution_count": 18,
      "outputs": [
        {
          "output_type": "display_data",
          "data": {
            "text/plain": [
              "<Figure size 640x480 with 1 Axes>"
            ],
            "image/png": "[encoded data removed]"
          },
          "metadata": {}
        }
      ]
    },
    {
      "cell_type": "code",
      "source": [
        "plt.subplot(2, 2, 4)\n",
        "plt.plot(x, y4)\n",
        "plt.title('Y = log(|x| + 1)')\n",
        "plt.grid(True)"
      ],
      "metadata": {
        "colab": {
          "base_uri": "https://localhost:8080/",
          "height": 251
        },
        "id": "M_ipVY6qkC-j",
        "outputId": "955e5a20-ecf2-4675-cabe-5e671ef41081"
      },
      "execution_count": 19,
      "outputs": [
        {
          "output_type": "display_data",
          "data": {
            "text/plain": [
              "<Figure size 640x480 with 1 Axes>"
            ],
            "image/png": "[encoded data removed]"
          },
          "metadata": {}
        }
      ]
    },
    {
      "cell_type": "code",
      "source": [],
      "metadata": {
        "id": "U6vpYZcVkhrI"
      },
      "execution_count": null,
      "outputs": []
    }
  ]
}