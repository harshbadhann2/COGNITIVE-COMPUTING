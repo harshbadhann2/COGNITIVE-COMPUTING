{
 "cells": [
  {
   "cell_type": "code",
   "execution_count": 5,
   "metadata": {},
   "outputs": [
    {
     "name": "stdout",
     "output_type": "stream",
     "text": [
      "[10, 20, 30, 40, 50, 60, 70, 80]\n",
      "After inserting 200 and 300 in list:  [10, 20, 30, 40, 50, 60, 70, 80, 200, 300]\n",
      "After removing 10 and 30 from the list:  [20, 40, 50, 60, 70, 80, 200, 300]\n",
      "Ascending order of list is  [20, 40, 50, 60, 70, 80, 200, 300]\n",
      "Descending order of the list is  [300, 200, 80, 70, 60, 50, 40, 20]\n"
     ]
    }
   ],
   "source": [
    "# Create a List L defined as [10, 20, 30, 40, 50, 60, 70, 80] and perform the following\n",
    "# operations:\n",
    "# i. Add\n",
    "# 200 and 300 to L.\n",
    "# ii. Remove 10 and 30 from L.\n",
    "# iii. Sort L in ascending order.\n",
    "# iv. Sort L in descending order.\n",
    "\n",
    "list_1 = [10, 20, 30, 40, 50, 60, 70, 80]\n",
    "\n",
    "print(list_1)\n",
    "\n",
    "list_1.append(200)\n",
    "list_1.append(300)\n",
    "print(\"After inserting 200 and 300 in list: \", list_1)\n",
    "\n",
    "list_1.remove(10)\n",
    "list_1.remove(30)\n",
    "print(\"After removing 10 and 30 from the list: \", list_1)\n",
    "\n",
    "list_1.sort()\n",
    "print(\"Ascending order of list is \", list_1)\n",
    "\n",
    "list_1.sort(reverse=True)\n",
    "print(\"Descending order of the list is \", list_1)\n",
    "\n",
    "\n",
    "\n",
    "\n"
   ]
  },
  {
   "cell_type": "code",
   "execution_count": 1,
   "metadata": {},
   "outputs": [
    {
     "name": "stdout",
     "output_type": "stream",
     "text": [
      "Marks of the test are  (45, 89.5, 76, 45.4, 89, 92, 58, 45)\n",
      "The highest scored marks in the test are  92  and the index of highest marks is  5\n",
      "The lowest marks are  45  and the count of the lowest marks is  2\n",
      "The reversed list of scores is: [45, 58, 92, 89, 45.4, 76, 89.5, 45]\n"
     ]
    }
   ],
   "source": [
    "# Create a tuple of marks scored as scores = (45, 89.5, 76, 45.4, 89, 92, 58, 45) and\n",
    "# perform the following operations:\n",
    "# i. Identify the highest score and its index in the tuple.\n",
    "# ii. Find the lowest score and count how many times it appears.\n",
    "# iii. Reverse the tuple and return it as a list.\n",
    "# iv. Check if a specific score 76 (input by the user) is present in the tuple and print\n",
    "# its first occurrence index, or a message saying it’s not present.\n",
    "scores = (45, 89.5, 76, 45.4, 89, 92, 58, 45)\n",
    "\n",
    "print(\"Marks of the test are \", scores)\n",
    "\n",
    "h_marks = max(scores)\n",
    "index_highest = scores.index(h_marks)\n",
    "\n",
    "print(\"The highest scored marks in the test are \",h_marks,\" and the index of highest marks is \", index_highest)\n",
    "\n",
    "lowest_score = min(scores)\n",
    "count_lowest = scores.count(lowest_score)\n",
    "\n",
    "print(\"The lowest marks are \", lowest_score, \" and the count of the lowest marks is \", count_lowest)\n",
    "\n",
    "reversed_list = list(scores[::-1])\n",
    "\n",
    "print(\"The reversed list of scores is:\", reversed_list)\n",
    "\n"
   ]
  },
  {
   "cell_type": "code",
   "execution_count": 9,
   "metadata": {},
   "outputs": [
    {
     "name": "stdout",
     "output_type": "stream",
     "text": [
      "Odd Numbers: [165, 427, 565, 417, 357, 175, 193, 219, 361, 509, 765, 177, 391, 765, 213, 313, 183, 537, 101, 107, 849, 349, 699, 597, 155, 381, 207, 805, 625, 131, 385, 221, 719, 515, 491, 339, 821, 351, 405, 113, 113, 265, 509, 177, 469, 391, 391, 661, 737]\n",
      "Even Numbers: [614, 386, 630, 828, 146, 278, 284, 496, 450, 236, 608, 770, 806, 602, 312, 502, 796, 574, 422, 296, 530, 388, 306, 532, 752, 604, 516, 854, 552, 502, 156, 850, 618, 686, 700, 232, 362, 606, 574, 268, 340, 774, 652, 582, 434, 348, 248, 618, 240, 352, 694]\n",
      "The Prime Numbers are  [193, 509, 313, 101, 107, 349, 131, 719, 491, 821, 113, 113, 509, 661]\n"
     ]
    }
   ],
   "source": [
    "# Write a program to create a list of 100 random numbers between 100 and 900.\n",
    "# Count and print:\n",
    "# i. All odd numbers.\n",
    "# ii. All even numbers.\n",
    "# iii. All prime numbers.\n",
    "\n",
    "import random\n",
    "import math\n",
    "random_numbers = [random.randint(100, 900) for _ in range(100)]\n",
    "odds = [num for num in random_numbers if num % 2 != 0]\n",
    "evens = [num for num in random_numbers if num % 2 == 0]\n",
    "print(\"Odd Numbers:\", odds)\n",
    "print(\"Even Numbers:\", evens)\n",
    "\n",
    "def is_prime(n):\n",
    "    if n <= 1:\n",
    "        return False\n",
    "    for i in range(2, int(math.sqrt(n)) + 1):\n",
    "        if n % i == 0:\n",
    "            return False\n",
    "    return True\n",
    "\n",
    "prime_numbers = [num for num in random_numbers if is_prime(num)] \n",
    "\n",
    "print(\"The Prime Numbers are \", prime_numbers)\n"
   ]
  },
  {
   "cell_type": "code",
   "execution_count": 2,
   "metadata": {},
   "outputs": [
    {
     "name": "stdout",
     "output_type": "stream",
     "text": [
      "Union: {34, 45, 78, 23, 56, 90}\n",
      "Intersection: {90, 78}\n",
      "Symmetric Difference: {34, 45, 23, 56}\n",
      "Is A a subset of B: False\n",
      "Is B a superset of A: False\n",
      "Removed score from A\n"
     ]
    }
   ],
   "source": [
    "# 4. Set Operations\n",
    "# Question\n",
    "# Consider the following sets representing scores of two teams:\n",
    "# A = {34, 56, 78, 90} and B = {78, 45, 90, 23} . Perform the following operations:\n",
    "# i. Find the unique scores achieved by both teams (union).\n",
    "# ii. Identify the scores that are common to both teams (intersection).\n",
    "# iii. Find the scores that are exclusive to each team (symmetric difference).\n",
    "# iv. Check if the scores of team A are a subset of team B, and if team B's scores\n",
    "# are a superset of team A.\n",
    "# v. Remove a specific score X (input by the user) from set A if it exists. If not, print\n",
    "# a message saying it is not present.\n",
    "\n",
    "\n",
    "A = {34, 56, 78, 90}\n",
    "B = {78, 45, 90, 23}\n",
    "union_set = A | B\n",
    "\n",
    "intersection_set = A & B\n",
    "\n",
    "symmetric_difference_set = A ^ B\n",
    "\n",
    "print(\"Union:\", union_set)\n",
    "print(\"Intersection:\", intersection_set)\n",
    "print(\"Symmetric Difference:\", symmetric_difference_set)\n",
    "\n",
    "is_subset = A.issubset(B)\n",
    "is_superset = B.issuperset(A)\n",
    "\n",
    "\n",
    "print(\"Is A a subset of B:\", is_subset)\n",
    "print(\"Is B a superset of A:\", is_superset)\n",
    "\n",
    "score_to_remove = 56\n",
    "\n",
    "\n",
    "if score_to_remove in A:\n",
    "    A.remove(score_to_remove)\n",
    "    \n",
    "    print(\"Removed score from A\")\n",
    "else:\n",
    "    print(\"Score not present in A\")\n",
    "    \n"
   ]
  },
  {
   "cell_type": "code",
   "execution_count": 12,
   "metadata": {},
   "outputs": [
    {
     "name": "stdout",
     "output_type": "stream",
     "text": [
      "Updated Dictionary: {'population': 8419600, 'area': 468.9, 'location': 'New York'}\n"
     ]
    }
   ],
   "source": [
    "# 5. Dictionary Operations\n",
    "# Question\n",
    "# Write a program to rename a key city to location in the following dictionary:\n",
    "# data = {\"city\": \"New York\",\"population\": 8419600,\"area\": 468.9}.\n",
    "\n",
    "data = {\"city\": \"New York\", \"population\": 8419600, \"area\": 468.9}\n",
    "data[\"location\"] = data.pop(\"city\")\n",
    "print(\"Updated Dictionary:\", data)"
   ]
  }
 ],
 "metadata": {
  "kernelspec": {
   "display_name": "base",
   "language": "python",
   "name": "python3"
  },
  "language_info": {
   "codemirror_mode": {
    "name": "ipython",
    "version": 3
   },
   "file_extension": ".py",
   "mimetype": "text/x-python",
   "name": "python",
   "nbconvert_exporter": "python",
   "pygments_lexer": "ipython3",
   "version": "3.12.7"
  }
 },
 "nbformat": 4,
 "nbformat_minor": 2
}
