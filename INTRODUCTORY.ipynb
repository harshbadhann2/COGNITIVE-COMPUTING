{
 "cells": [
  {
   "cell_type": "code",
   "execution_count": 1,
   "metadata": {},
   "outputs": [
    {
     "name": "stdout",
     "output_type": "stream",
     "text": [
      "today is rainy day\n"
     ]
    }
   ],
   "source": [
    "print(\"today is rainy day\")"
   ]
  },
  {
   "cell_type": "code",
   "execution_count": 8,
   "metadata": {},
   "outputs": [
    {
     "name": "stdout",
     "output_type": "stream",
     "text": [
      "22\n"
     ]
    }
   ],
   "source": [
    "# 2.1 Write a program to add two numbers and print the result.\n",
    "\n",
    "a= 12\n",
    "b= 10\n",
    "c= a+b\n",
    "print(c)"
   ]
  },
  {
   "cell_type": "code",
   "execution_count": 9,
   "metadata": {},
   "outputs": [
    {
     "name": "stdout",
     "output_type": "stream",
     "text": [
      "today tomorrow \n"
     ]
    }
   ],
   "source": [
    "# 2.2 Write a program to concatenate two strings and print the result.\n",
    "\n",
    "a = 'today '\n",
    "b = 'tomorrow '\n",
    "c = a+b\n",
    "print(c)"
   ]
  },
  {
   "cell_type": "code",
   "execution_count": 10,
   "metadata": {},
   "outputs": [
    {
     "name": "stdout",
     "output_type": "stream",
     "text": [
      "hi there 12\n"
     ]
    }
   ],
   "source": [
    "# 2.3 Write a program to concatenate a string and a number and print the result.\n",
    "\n",
    "a = 'hi there '\n",
    "b = 12\n",
    "c = a+ str(b)\n",
    "print(c)"
   ]
  },
  {
   "cell_type": "code",
   "execution_count": 4,
   "metadata": {},
   "outputs": [
    {
     "name": "stdout",
     "output_type": "stream",
     "text": [
      "Entered number is Positive...\n"
     ]
    }
   ],
   "source": [
    "# 3.1 Write a Python program to check if a number is positive, negative, or zero\n",
    "# using an if-else statement.\n",
    "\n",
    "number = int(input(\"Please input a Number: \"))\n",
    "if number > 0:\n",
    "    print('Entered number is Positive...')\n",
    "elif number < 0:\n",
    "    print('Enetred number is Negative...')\n",
    "else:\n",
    "    print('Entered number is Zero...')\n"
   ]
  },
  {
   "cell_type": "code",
   "execution_count": 7,
   "metadata": {},
   "outputs": [
    {
     "name": "stdout",
     "output_type": "stream",
     "text": [
      "Eneterd number is odd...\n"
     ]
    }
   ],
   "source": [
    "# 3.2 Write a program to check if a given number is odd or even\n",
    "number = int(input('Please enter a Number: '))\n",
    "if number%2 == 0:\n",
    "    print(\"Entered number is even...\")\n",
    "else:\n",
    "    print(\"Eneterd number is odd...\")"
   ]
  },
  {
   "cell_type": "code",
   "execution_count": 12,
   "metadata": {},
   "outputs": [
    {
     "name": "stdout",
     "output_type": "stream",
     "text": [
      "1\n",
      "2\n",
      "3\n",
      "4\n",
      "5\n",
      "6\n",
      "7\n",
      "8\n",
      "9\n",
      "10\n"
     ]
    }
   ],
   "source": [
    "# 4.1 Write a program to print numbers from 1 to 10 using a for loop.\n",
    "\n",
    "num = int(input('Enter the number: '))\n",
    "\n",
    "for i in range(1,num+1):\n",
    "    print(i)"
   ]
  },
  {
   "cell_type": "code",
   "execution_count": 13,
   "metadata": {},
   "outputs": [
    {
     "name": "stdout",
     "output_type": "stream",
     "text": [
      "1\n",
      "2\n",
      "3\n",
      "4\n",
      "5\n",
      "6\n",
      "7\n",
      "8\n",
      "9\n",
      "10\n"
     ]
    }
   ],
   "source": [
    "# 4.2 Write a program to print numbers from 1 to 10 using a while loop.\n",
    "num = int(input('Enter the number: '))\n",
    "count = 1\n",
    "while count<=num:\n",
    "    print(count)\n",
    "    count += 1"
   ]
  },
  {
   "cell_type": "code",
   "execution_count": 17,
   "metadata": {},
   "outputs": [
    {
     "name": "stdout",
     "output_type": "stream",
     "text": [
      "5050\n"
     ]
    }
   ],
   "source": [
    "# 4.3 Write a program to calculate the sum of numbers from 1 to 100 using a loop.\n",
    "number = 100\n",
    "sum = 0\n",
    "for i in range(1,number+1):\n",
    "    sum = sum + i\n",
    " \n",
    "print(sum)   "
   ]
  },
  {
   "cell_type": "code",
   "execution_count": 2,
   "metadata": {},
   "outputs": [
    {
     "name": "stdout",
     "output_type": "stream",
     "text": [
      "Largest: \n",
      "9\n",
      "Smallest: \n",
      "1\n",
      "[1, 2, 5, 7, 9]\n"
     ]
    }
   ],
   "source": [
    "# 5.1 Create a list of 5 numbers. Write a program to find the largest and smallest\n",
    "# numbers in the list.\n",
    "list = [1,2,5,7,9]\n",
    "\n",
    "\n",
    "largest = max(list)\n",
    "smallest = min(list)\n",
    "\n",
    "print('Largest: ')\n",
    "print(largest)\n",
    "print('Smallest: ')\n",
    "print(smallest)\n",
    "\n",
    "print(list)\n"
   ]
  },
  {
   "cell_type": "code",
   "execution_count": 20,
   "metadata": {},
   "outputs": [
    {
     "name": "stdout",
     "output_type": "stream",
     "text": [
      "{'NAME': 'BADHAN', 'AGE': 19, 'CITY': 'HSP'}\n",
      "HSP\n"
     ]
    }
   ],
   "source": [
    "#5.2 Create a dictionary with at least 3 key-value pairs. Write a program to retrieve\n",
    "# the value of a given key.\n",
    "data = {\n",
    "    \"NAME\":\"BADHAN\",\n",
    "    \"AGE\": 19,\n",
    "    \"CITY\": \"HSP\"\n",
    "}\n",
    "print(data)\n",
    "print(data[\"CITY\"])"
   ]
  },
  {
   "cell_type": "code",
   "execution_count": 21,
   "metadata": {},
   "outputs": [
    {
     "name": "stdout",
     "output_type": "stream",
     "text": [
      "[-1, -3, 9, 0, 7]\n",
      "[-3, -1, 0, 7, 9]\n",
      "[9, 7, 0, -1, -3]\n"
     ]
    }
   ],
   "source": [
    "# 5.3 Write a program to sort a list of numbers in ascending and descending order.\n",
    "\n",
    "a_list = [-1,-3,9,0,7]\n",
    "print(a_list)\n",
    "\n",
    "a_list.sort()\n",
    "print(a_list)\n",
    "a_list.sort(reverse=True)\n",
    "print(a_list)\n",
    "\n"
   ]
  },
  {
   "cell_type": "code",
   "execution_count": 25,
   "metadata": {},
   "outputs": [
    {
     "name": "stdout",
     "output_type": "stream",
     "text": [
      "{'NAME': 'HARI', 'AGE': 12}\n",
      "{'City': 'BATALA', 'car': 'Sedan'}\n",
      "{'NAME': 'HARI', 'AGE': 12, 'City': 'BATALA', 'car': 'Sedan'}\n"
     ]
    }
   ],
   "source": [
    "# 5.4 Write a program to merge two dictionaries into one.\n",
    "dict_a= { \n",
    "    \"NAME\": \"HARI\",\n",
    "    \"AGE\": 12\n",
    "}\n",
    "print(dict_a)\n",
    "dict_b= { \n",
    "    \"City\": \"BATALA\",\n",
    "    \"car\": \"Sedan\"\n",
    "    \n",
    "}\n",
    "print(dict_b)\n",
    "dict_a.update(dict_b)\n",
    "print(dict_a)\n"
   ]
  },
  {
   "cell_type": "code",
   "execution_count": 26,
   "metadata": {},
   "outputs": [
    {
     "name": "stdout",
     "output_type": "stream",
     "text": [
      "no of vowels are  2\n"
     ]
    }
   ],
   "source": [
    "# 6.1 Write a program to count the number of vowels in a given string.\n",
    "name=\"BADHAN\";\n",
    "count=0\n",
    "for x in name:\n",
    "  if(x=='A' or x=='E' or x=='I' or x=='O' or x=='U' or x=='a'or x=='e' or x=='i' or x=='o' or x=='u'):\n",
    "    count+=1\n",
    "else:\n",
    "  print(\"no of vowels are \",count)"
   ]
  },
  {
   "cell_type": "code",
   "execution_count": 29,
   "metadata": {},
   "outputs": [
    {
     "name": "stdout",
     "output_type": "stream",
     "text": [
      "koobcam\n"
     ]
    }
   ],
   "source": [
    "# 6.2 Write a program to reverse a string and print it.\n",
    "product=\"macbook\"\n",
    "\n",
    "str_reverse='';\n",
    "for x in product:\n",
    "  str_reverse=x+str_reverse\n",
    "\n",
    "print(str_reverse)\n"
   ]
  },
  {
   "cell_type": "code",
   "execution_count": 30,
   "metadata": {},
   "outputs": [
    {
     "name": "stdout",
     "output_type": "stream",
     "text": [
      "its palindrome\n"
     ]
    }
   ],
   "source": [
    "# 6.3 Write a program to check if a string is a palindrome.\n",
    "name=\"madam\"\n",
    "\n",
    "str_1='';\n",
    "for x in name:\n",
    "  str_1=x+str_1\n",
    "\n",
    "if str_1==name:\n",
    "  print(\"its palindrome\")\n",
    "else:\n",
    "  print(\"not palindrome\")"
   ]
  },
  {
   "cell_type": "code",
   "execution_count": 32,
   "metadata": {},
   "outputs": [
    {
     "name": "stdout",
     "output_type": "stream",
     "text": [
      "winter \n"
     ]
    }
   ],
   "source": [
    "# Create a text file, write some text into it, and then read and print the content.\n",
    "\n",
    "f=open(\"test.txt\",\"w\")\n",
    "f.write(\"winter \")\n",
    "f.close()\n",
    "\n",
    "f=open(\"test.txt\",\"r\")\n",
    "print(f.read())\n",
    "f.close()\n",
    "\n"
   ]
  },
  {
   "cell_type": "code",
   "execution_count": 39,
   "metadata": {},
   "outputs": [
    {
     "name": "stdout",
     "output_type": "stream",
     "text": [
      "winter new content is added.new content is added.new content is added.new content is added.new content is added.new content is added.new content is added.\n"
     ]
    }
   ],
   "source": [
    "# 7.2 Write a program to append text to an existing file and print the updated\n",
    "# content\n",
    "f=open(\"test.txt\",\"a\")\n",
    "f.write(\"new content is added.\")\n",
    "f.close()\n",
    "\n",
    "f=open(\"test.txt\",\"r\")\n",
    "print(f.read())\n",
    "f.close()"
   ]
  },
  {
   "cell_type": "code",
   "execution_count": 40,
   "metadata": {},
   "outputs": [
    {
     "name": "stdout",
     "output_type": "stream",
     "text": [
      "7\n"
     ]
    }
   ],
   "source": [
    "# 7.3 Write a program to count the number of lines in a text file.\n",
    "f=open(\"test.txt\",\"r\")\n",
    "count=0\n",
    "line=f.read()\n",
    "for x in line:\n",
    "  if(x==\".\"):\n",
    "    count+=1\n",
    "\n",
    "print(count)\n",
    "f.close()"
   ]
  },
  {
   "cell_type": "code",
   "execution_count": null,
   "metadata": {},
   "outputs": [
    {
     "name": "stdout",
     "output_type": "stream",
     "text": [
      "invalid value of denominator\n"
     ]
    }
   ],
   "source": [
    "# 8.1 Write a program to handle division by zero using a try-except block.\n",
    "num=int(input(\"enter numerator\"))\n",
    "deno=int (input(\"enter denominator\"))\n",
    "\n",
    "try:\n",
    "  print(num//deno)\n",
    "except:\n",
    "  print(\"invalid value of denominator\")"
   ]
  },
  {
   "cell_type": "code",
   "execution_count": 43,
   "metadata": {},
   "outputs": [
    {
     "name": "stdout",
     "output_type": "stream",
     "text": [
      "13\n"
     ]
    }
   ],
   "source": [
    "# 8.2 Write a program to handle invalid input (e.g., when the user enters a string\n",
    "# instead of a number).\n",
    "\n",
    "var=input(\"enter number: \")\n",
    "try:\n",
    "  var=int(var)\n",
    "except:\n",
    "  print(\"input is not a number... \")\n",
    "else:\n",
    "  print(var)\n",
    "  "
   ]
  },
  {
   "cell_type": "code",
   "execution_count": 44,
   "metadata": {},
   "outputs": [
    {
     "name": "stdout",
     "output_type": "stream",
     "text": [
      "execution complete\n",
      "23\n"
     ]
    }
   ],
   "source": [
    "# 8.3 Write a program to demonstrate the use of finally in exception handling.\n",
    "a=int(input(\"enter number: \"))\n",
    "try:\n",
    "  b=200/a;\n",
    "except:\n",
    "  print(\"invalid value of a\")\n",
    "finally:\n",
    "  print(\"execution complete\")\n",
    "  print(a);"
   ]
  },
  {
   "cell_type": "code",
   "execution_count": 45,
   "metadata": {},
   "outputs": [
    {
     "name": "stdout",
     "output_type": "stream",
     "text": [
      "[38, 53, 12, 26, 27]\n"
     ]
    }
   ],
   "source": [
    "# 9.1 Write a program to generate 5 random numbers between 1 and 100 and print\n",
    "# them\n",
    "import random\n",
    "list1=[]\n",
    "for x in range(5):\n",
    "    list1.append(random.randint(1,100))\n",
    "\n",
    "print(list1);"
   ]
  },
  {
   "cell_type": "code",
   "execution_count": 46,
   "metadata": {},
   "outputs": [
    {
     "name": "stdout",
     "output_type": "stream",
     "text": [
      "the no is  117\n",
      "no is not prime\n"
     ]
    }
   ],
   "source": [
    "# 9.2 Write a program to generate a random number and check if it is prime.\n",
    "import random\n",
    "\n",
    "x=random.randint(1,200)\n",
    "n=int(x/2)\n",
    "print(\"the no is \",x)\n",
    "for a in range(2,n):\n",
    "  if(x%a==0):\n",
    "    print(\"no is not prime\")\n",
    "    break\n",
    "else:\n",
    "  print(\"the no is prime\")"
   ]
  },
  {
   "cell_type": "code",
   "execution_count": 47,
   "metadata": {},
   "outputs": [
    {
     "name": "stdout",
     "output_type": "stream",
     "text": [
      "0 st experiment :  2\n",
      "1 st experiment :  5\n",
      "2 st experiment :  5\n",
      "3 st experiment :  5\n"
     ]
    }
   ],
   "source": [
    "# 9.3 Write a program to simulate rolling a six-sided die\n",
    "import random\n",
    "\n",
    "n=int(input(\"enter no of exp: \"))\n",
    "\n",
    "for x in range(n):\n",
    "  a=random.randint(1,6)\n",
    "  print(x,\"st experiment : \",a)\n"
   ]
  },
  {
   "cell_type": "code",
   "execution_count": 48,
   "metadata": {},
   "outputs": [
    {
     "name": "stdout",
     "output_type": "stream",
     "text": [
      "[30, 40, 50, 20, 10]\n"
     ]
    }
   ],
   "source": [
    "# 9.4 Write a program to shuffle a list of numbers.\n",
    "import random\n",
    "listn=[23,43,43,33,23]\n",
    "\n",
    "random.shuffle(listn)\n",
    "\n",
    "print(listn)"
   ]
  },
  {
   "cell_type": "code",
   "execution_count": 53,
   "metadata": {},
   "outputs": [
    {
     "name": "stdout",
     "output_type": "stream",
     "text": [
      "m3\n"
     ]
    }
   ],
   "source": [
    "# 9.5 Write a program to randomly select an item from a list.\n",
    "import random\n",
    "listn=[10,\"m3\",30,10.34,\"#$%^\"]\n",
    "\n",
    "x=random.choice(listn)\n",
    "\n",
    "print(x)"
   ]
  },
  {
   "cell_type": "code",
   "execution_count": 56,
   "metadata": {},
   "outputs": [
    {
     "name": "stdout",
     "output_type": "stream",
     "text": [
      "14\n"
     ]
    }
   ],
   "source": [
    "# 9.6 Write a program to generate a random password of given length.\n",
    "import random\n",
    "\n",
    "password=''\n",
    "l=int(input(\"enter length of password\"))\n",
    "for x in range(l):\n",
    "  password+=str(random.randint(0,9))\n",
    "\n",
    "print(password)\n"
   ]
  },
  {
   "cell_type": "code",
   "execution_count": 65,
   "metadata": {},
   "outputs": [
    {
     "name": "stdout",
     "output_type": "stream",
     "text": [
      "diamond 3\n"
     ]
    }
   ],
   "source": [
    "# 9.7 Write a program to pick a random card from a standard deck of 52 cards.\n",
    "import random\n",
    "cardlist=[\"heart\",\"diamond\",\"club\",\"spade\"]\n",
    "number=['A',2,3,4,5,6,7,8,9,10,'J','Q','K']\n",
    "\n",
    "a=random.choice(cardlist)\n",
    "b=random.choice(number)\n",
    "\n",
    "print(a+\" \"+str(b))"
   ]
  },
  {
   "cell_type": "code",
   "execution_count": 4,
   "metadata": {},
   "outputs": [
    {
     "name": "stdout",
     "output_type": "stream",
     "text": [
      "The sum of 10 and 12 is 22\n"
     ]
    }
   ],
   "source": [
    "# 10.1: Program to Accept Two Numbers as Command-Line Arguments, Add Them, and Print the Result\n",
    "import sys\n",
    "\n",
    "sys.argv = ['program.py','10','12']\n",
    "\n",
    "if len(sys.argv) != 3:\n",
    "    print(\"Usage: python program.py <num1> <num2>\")\n",
    "    sys.exit(1)\n",
    "\n",
    "try:\n",
    "    X=int(sys.argv[1])\n",
    "    Y=int(sys.argv[2])\n",
    "\n",
    "    result=X+Y\n",
    "\n",
    "    print(f\"The sum of {X} and {Y} is {result}\")\n",
    "except ValueError:\n",
    "    print(\"Please provide valid numbers as input!\")\n",
    "    sys.exit(1)\n"
   ]
  },
  {
   "cell_type": "code",
   "execution_count": 66,
   "metadata": {},
   "outputs": [
    {
     "name": "stdout",
     "output_type": "stream",
     "text": [
      "The length of the string '--f=/Users/BADHANN/Library/Jupyter/runtime/kernel-v372be767c61e1956e20cc483dd7edf5955bef3db1.json' is 97.\n"
     ]
    }
   ],
   "source": [
    "# 10.2 Write a program to accept a string as a command-line argument and print its\n",
    "# length.\n",
    "import sys\n",
    "\n",
    "if len(sys.argv) < 2:\n",
    "    print(\"Please provide a string as a command-line argument.\")\n",
    "else:\n",
    "    input_string = sys.argv[1]\n",
    "    print(f\"The length of the string '{input_string}' is {len(input_string)}.\")\n"
   ]
  },
  {
   "cell_type": "code",
   "execution_count": 1,
   "metadata": {},
   "outputs": [
    {
     "name": "stdout",
     "output_type": "stream",
     "text": [
      "square root is :  3.0\n"
     ]
    }
   ],
   "source": [
    "# 11.1 Write a program to use the math library to calculate the square root of a given\n",
    "# number.\n",
    "import math\n",
    "a=int(input(\"enter the number: \"))\n",
    "b=math.sqrt(a);\n",
    "\n",
    "print (\"square root is : \",b)"
   ]
  },
  {
   "cell_type": "code",
   "execution_count": 59,
   "metadata": {},
   "outputs": [
    {
     "name": "stdout",
     "output_type": "stream",
     "text": [
      "2025-01-13 01:05:15.039144\n",
      "13\n"
     ]
    }
   ],
   "source": [
    "# 11.2 Write a program to use the datetime library to print the current date and time\n",
    "import datetime\n",
    "\n",
    "x=datetime.datetime.now()\n",
    "print(x)\n",
    "\n",
    "print(x.strftime(\"%d\"))"
   ]
  },
  {
   "cell_type": "code",
   "execution_count": 5,
   "metadata": {},
   "outputs": [
    {
     "name": "stdout",
     "output_type": "stream",
     "text": [
      "/Users/BADHANN/Desktop/Semester 4/COGNITIVE/INTRODUCTORY\n",
      "['INTRODUCTORY.ipynb', 'sum.py']\n"
     ]
    }
   ],
   "source": [
    "# 11.3 Write a program to use the os library to list all files in the current directory\n",
    "import os\n",
    "\n",
    "curr_dir = os.getcwd()\n",
    "print(curr_dir)\n",
    "dir_contents = os.listdir(curr_dir)\n",
    "print(dir_contents)"
   ]
  }
 ],
 "metadata": {
  "kernelspec": {
   "display_name": "base",
   "language": "python",
   "name": "python3"
  },
  "language_info": {
   "codemirror_mode": {
    "name": "ipython",
    "version": 3
   },
   "file_extension": ".py",
   "mimetype": "text/x-python",
   "name": "python",
   "nbconvert_exporter": "python",
   "pygments_lexer": "ipython3",
   "version": "3.12.7"
  }
 },
 "nbformat": 4,
 "nbformat_minor": 2
}
